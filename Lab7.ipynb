{
  "nbformat": 4,
  "nbformat_minor": 0,
  "metadata": {
    "colab": {
      "name": "Devansh_Messon_037_Lab7.ipynb",
      "provenance": [],
      "include_colab_link": true
    },
    "kernelspec": {
      "name": "python3",
      "display_name": "Python 3"
    }
  },
  "cells": [
    {
      "cell_type": "markdown",
      "metadata": {
        "id": "view-in-github",
        "colab_type": "text"
      },
      "source": [
        "<a href=\"https://colab.research.google.com/github/zeph0yr/Operation-Research-Optimization/blob/master/Lab7.ipynb\" target=\"_parent\"><img src=\"https://colab.research.google.com/assets/colab-badge.svg\" alt=\"Open In Colab\"/></a>"
      ]
    },
    {
      "cell_type": "code",
      "metadata": {
        "id": "hhjQXwi-6ngL",
        "colab_type": "code",
        "colab": {
          "base_uri": "https://localhost:8080/",
          "height": 306
        },
        "outputId": "1ee5a79f-9a01-4a08-ed72-5377db8f5925"
      },
      "source": [
        "!pip install pulp"
      ],
      "execution_count": null,
      "outputs": [
        {
          "output_type": "stream",
          "text": [
            "Collecting pulp\n",
            "\u001b[?25l  Downloading https://files.pythonhosted.org/packages/c3/22/5743d7b5d69f84fb63a0b4925862522dbf80e82defcd0c447afb694f3fd0/PuLP-2.3-py3-none-any.whl (40.6MB)\n",
            "\u001b[K     |████████████████████████████████| 40.6MB 102kB/s \n",
            "\u001b[?25hCollecting amply>=0.1.2\n",
            "  Downloading https://files.pythonhosted.org/packages/7f/11/33cb09557ac838d9488779b79e05a2a3c1f3ce9747cd242ba68332736778/amply-0.1.2.tar.gz\n",
            "  Installing build dependencies ... \u001b[?25l\u001b[?25hdone\n",
            "  Getting requirements to build wheel ... \u001b[?25l\u001b[?25hdone\n",
            "    Preparing wheel metadata ... \u001b[?25l\u001b[?25hdone\n",
            "Requirement already satisfied: pyparsing in /usr/local/lib/python3.6/dist-packages (from amply>=0.1.2->pulp) (2.4.7)\n",
            "Requirement already satisfied: docutils>=0.3 in /usr/local/lib/python3.6/dist-packages (from amply>=0.1.2->pulp) (0.15.2)\n",
            "Building wheels for collected packages: amply\n",
            "  Building wheel for amply (PEP 517) ... \u001b[?25l\u001b[?25hdone\n",
            "  Created wheel for amply: filename=amply-0.1.2-cp36-none-any.whl size=16573 sha256=b891bac5b893daeb42c171c2ba4c9fa7027d8d5cc8e18d2ceb0bd277ac27a832\n",
            "  Stored in directory: /root/.cache/pip/wheels/84/18/f7/e5c3ed13ed5bb721763f77d4a924331d59ef115ce61c9d26eb\n",
            "Successfully built amply\n",
            "Installing collected packages: amply, pulp\n",
            "Successfully installed amply-0.1.2 pulp-2.3\n"
          ],
          "name": "stdout"
        }
      ]
    },
    {
      "cell_type": "code",
      "metadata": {
        "id": "VUW8DbX462VO",
        "colab_type": "code",
        "colab": {}
      },
      "source": [
        "from pulp import *"
      ],
      "execution_count": null,
      "outputs": []
    },
    {
      "cell_type": "markdown",
      "metadata": {
        "id": "JLeuze8C6KRO",
        "colab_type": "text"
      },
      "source": [
        "#Question 1 \n",
        "##Model\n",
        "\n",
        "Minimize $Z = X­_{1} + X_{2}$\n",
        "\n",
        "Subject to\n",
        "\n",
        "$X_{1} + X_{2} ≤ 1$\n",
        "\n",
        "$-3X_{1} + X_{2} ≥3$\n",
        "\n",
        "$X_{1} ,X_{2} ≥0$"
      ]
    },
    {
      "cell_type": "markdown",
      "metadata": {
        "id": "iSzZDDJN7IXO",
        "colab_type": "text"
      },
      "source": [
        "##Define data"
      ]
    },
    {
      "cell_type": "code",
      "metadata": {
        "id": "QGwQypsx7K3N",
        "colab_type": "code",
        "colab": {}
      },
      "source": [
        "import numpy as np\n",
        "variable=2\n",
        "equation=2\n",
        "cost=np.array([1,1])\n",
        "coefficient=np.array([[-1,-1],[-3,1]])\n",
        "resource=np.array([-1,3])"
      ],
      "execution_count": null,
      "outputs": []
    },
    {
      "cell_type": "markdown",
      "metadata": {
        "id": "NYp5M73u-Ped",
        "colab_type": "text"
      },
      "source": [
        "##Defining Lpp Problem\n",
        "\n",
        "\n"
      ]
    },
    {
      "cell_type": "code",
      "metadata": {
        "id": "nFmt6RuB-Vyk",
        "colab_type": "code",
        "colab": {
          "base_uri": "https://localhost:8080/",
          "height": 51
        },
        "outputId": "a7fcd748-7f60-4c85-8d33-4d5440794eda"
      },
      "source": [
        "lpp=LpProblem(\"Question 1\",LpMinimize)"
      ],
      "execution_count": null,
      "outputs": [
        {
          "output_type": "stream",
          "text": [
            "/usr/local/lib/python3.6/dist-packages/pulp/pulp.py:1195: UserWarning: Spaces are not permitted in the name. Converted to '_'\n",
            "  warnings.warn(\"Spaces are not permitted in the name. Converted to '_'\")\n"
          ],
          "name": "stderr"
        }
      ]
    },
    {
      "cell_type": "code",
      "metadata": {
        "id": "0D7JZhoiD95c",
        "colab_type": "code",
        "colab": {}
      },
      "source": [
        ""
      ],
      "execution_count": null,
      "outputs": []
    },
    {
      "cell_type": "markdown",
      "metadata": {
        "id": "j4k6C6UC-rBl",
        "colab_type": "text"
      },
      "source": [
        "##Defining Decision Variables"
      ]
    },
    {
      "cell_type": "code",
      "metadata": {
        "id": "Hc0PJejx-0mP",
        "colab_type": "code",
        "colab": {}
      },
      "source": [
        "x={i:LpVariable(name=f\"x{i}\",lowBound=0)for i in range(1,variable+1)}"
      ],
      "execution_count": null,
      "outputs": []
    },
    {
      "cell_type": "markdown",
      "metadata": {
        "id": "J7DFQopfAUmu",
        "colab_type": "text"
      },
      "source": [
        "##Defining Objective Function"
      ]
    },
    {
      "cell_type": "code",
      "metadata": {
        "id": "D_MDmupUAfYG",
        "colab_type": "code",
        "colab": {}
      },
      "source": [
        "lpp+=lpSum(cost[i-1]*x[i] for i in range(1,variable+1))"
      ],
      "execution_count": null,
      "outputs": []
    },
    {
      "cell_type": "markdown",
      "metadata": {
        "id": "IsUreRrYBP8q",
        "colab_type": "text"
      },
      "source": [
        "##Add Constraints"
      ]
    },
    {
      "cell_type": "code",
      "metadata": {
        "id": "GGq-WNdvBS6d",
        "colab_type": "code",
        "colab": {}
      },
      "source": [
        "for i in range(1,equation+1):\n",
        "  lpp+=lpSum(coefficient[i-1,j-1]*x[j] for j in range(1,variable+1))>=resource[i-1]"
      ],
      "execution_count": null,
      "outputs": []
    },
    {
      "cell_type": "markdown",
      "metadata": {
        "id": "IY--jjKICyCH",
        "colab_type": "text"
      },
      "source": [
        "##Print Lpp"
      ]
    },
    {
      "cell_type": "code",
      "metadata": {
        "id": "kJc7KyKxCziP",
        "colab_type": "code",
        "colab": {
          "base_uri": "https://localhost:8080/",
          "height": 221
        },
        "outputId": "26729d1b-1a08-423c-a1d8-bbf225226e9d"
      },
      "source": [
        "print(lpp)"
      ],
      "execution_count": null,
      "outputs": [
        {
          "output_type": "stream",
          "text": [
            "Question_1:\n",
            "MINIMIZE\n",
            "1*x1 + 1*x2 + 0\n",
            "SUBJECT TO\n",
            "_C1: - x1 - x2 >= -1\n",
            "\n",
            "_C2: - 3 x1 + x2 >= 3\n",
            "\n",
            "VARIABLES\n",
            "x1 Continuous\n",
            "x2 Continuous\n",
            "\n"
          ],
          "name": "stdout"
        }
      ]
    },
    {
      "cell_type": "markdown",
      "metadata": {
        "id": "tmbJ6O55FDae",
        "colab_type": "text"
      },
      "source": [
        "##Solve the optimization problem"
      ]
    },
    {
      "cell_type": "code",
      "metadata": {
        "id": "6H5wmGZLFEi-",
        "colab_type": "code",
        "colab": {}
      },
      "source": [
        "status=lpp.solve()"
      ],
      "execution_count": null,
      "outputs": []
    },
    {
      "cell_type": "markdown",
      "metadata": {
        "id": "P_7-ee0FFIv_",
        "colab_type": "text"
      },
      "source": [
        "##Results"
      ]
    },
    {
      "cell_type": "code",
      "metadata": {
        "id": "wSsWz3IgFJyK",
        "colab_type": "code",
        "colab": {
          "base_uri": "https://localhost:8080/",
          "height": 85
        },
        "outputId": "c4379f3c-c71c-46af-94cc-8b635907a456"
      },
      "source": [
        "print(f\"status: {lpp.status}, {LpStatus[lpp.status]}\")\n",
        "print(f\"objective: {lpp.objective.value()}\")\n",
        "\n",
        "for variable in x.values():\n",
        "    print(f\"{variable.name}: {variable.value()}\")"
      ],
      "execution_count": null,
      "outputs": [
        {
          "output_type": "stream",
          "text": [
            "status: -1, Infeasible\n",
            "objective: 3.0\n",
            "x1: 0.0\n",
            "x2: 3.0\n"
          ],
          "name": "stdout"
        }
      ]
    },
    {
      "cell_type": "markdown",
      "metadata": {
        "id": "ZK6ItM0MFSAD",
        "colab_type": "text"
      },
      "source": [
        "##Question 2\n",
        "###Model\n",
        "Maximize $Z = 2X­_{1} + 4X_{2}$\n",
        "\n",
        "Subject to\n",
        "\n",
        "$X_{1} + 2X_{2} ≤ 5$\n",
        "\n",
        "$X_{1} + X_{2} ≤ 4$\n",
        "\n",
        "$X_{1} ,X_{2} ≥0$\n",
        "\n",
        "\n",
        "\n"
      ]
    },
    {
      "cell_type": "markdown",
      "metadata": {
        "id": "A19CGWsdF83f",
        "colab_type": "text"
      },
      "source": [
        "##Define data"
      ]
    },
    {
      "cell_type": "code",
      "metadata": {
        "id": "B1AgRv0ZGB7S",
        "colab_type": "code",
        "colab": {}
      },
      "source": [
        "import numpy as np\n",
        "variable=2\n",
        "equation=2\n",
        "cost=np.array([2,4])\n",
        "coefficient=np.array([[1,2],[1,1]])\n",
        "resource=np.array([5,4])"
      ],
      "execution_count": null,
      "outputs": []
    },
    {
      "cell_type": "markdown",
      "metadata": {
        "id": "kobYKCouGMij",
        "colab_type": "text"
      },
      "source": [
        "##Defining Lpp Problem"
      ]
    },
    {
      "cell_type": "code",
      "metadata": {
        "id": "TTNHu0SeGO2C",
        "colab_type": "code",
        "colab": {}
      },
      "source": [
        "lpp=LpProblem(\"Question2\",LpMaximize)"
      ],
      "execution_count": null,
      "outputs": []
    },
    {
      "cell_type": "markdown",
      "metadata": {
        "id": "57OCkUDFGZKj",
        "colab_type": "text"
      },
      "source": [
        "##Defining Decision varibles"
      ]
    },
    {
      "cell_type": "code",
      "metadata": {
        "id": "r0lYtlSfGaEA",
        "colab_type": "code",
        "colab": {}
      },
      "source": [
        "x = {i: LpVariable(name=f\"x{i}\", lowBound=0) for i in range(1, variable+1)}\n"
      ],
      "execution_count": null,
      "outputs": []
    },
    {
      "cell_type": "markdown",
      "metadata": {
        "id": "S6ZrMnhwGffc",
        "colab_type": "text"
      },
      "source": [
        "##Defining Objective Function"
      ]
    },
    {
      "cell_type": "code",
      "metadata": {
        "id": "Dm7vQRWhGidB",
        "colab_type": "code",
        "colab": {}
      },
      "source": [
        "lpp+=lpSum(cost[i-1]*x[i]for i in range(1,variable+1))"
      ],
      "execution_count": null,
      "outputs": []
    },
    {
      "cell_type": "markdown",
      "metadata": {
        "id": "EmzQAWJsGlXu",
        "colab_type": "text"
      },
      "source": [
        "##Add Constraints"
      ]
    },
    {
      "cell_type": "code",
      "metadata": {
        "id": "Eyqmim61Gne7",
        "colab_type": "code",
        "colab": {}
      },
      "source": [
        "for i in range(1,equation+1):\n",
        "  lpp+=lpSum(coefficient[i-1,j-1]*x[j] for j in range(1,variable+1))<=resource[i-1]"
      ],
      "execution_count": null,
      "outputs": []
    },
    {
      "cell_type": "markdown",
      "metadata": {
        "id": "MQ5LottnG3LK",
        "colab_type": "text"
      },
      "source": [
        "##Print Model"
      ]
    },
    {
      "cell_type": "code",
      "metadata": {
        "id": "hYLVLJ2FG6AA",
        "colab_type": "code",
        "colab": {
          "base_uri": "https://localhost:8080/",
          "height": 221
        },
        "outputId": "f2b88317-8e75-474d-eac4-f84797643cdd"
      },
      "source": [
        "print(lpp)"
      ],
      "execution_count": null,
      "outputs": [
        {
          "output_type": "stream",
          "text": [
            "Question2:\n",
            "MAXIMIZE\n",
            "2*x1 + 4*x2 + 0\n",
            "SUBJECT TO\n",
            "_C1: x1 + 2 x2 <= 5\n",
            "\n",
            "_C2: x1 + x2 <= 4\n",
            "\n",
            "VARIABLES\n",
            "x1 Continuous\n",
            "x2 Continuous\n",
            "\n"
          ],
          "name": "stdout"
        }
      ]
    },
    {
      "cell_type": "markdown",
      "metadata": {
        "id": "7bWUR8LaG_i1",
        "colab_type": "text"
      },
      "source": [
        "##Solve the optimization problem"
      ]
    },
    {
      "cell_type": "code",
      "metadata": {
        "id": "RR4i0qFdHCJo",
        "colab_type": "code",
        "colab": {}
      },
      "source": [
        "status=lpp.solve()"
      ],
      "execution_count": null,
      "outputs": []
    },
    {
      "cell_type": "markdown",
      "metadata": {
        "id": "MzkAuwMuHEhL",
        "colab_type": "text"
      },
      "source": [
        "##Results"
      ]
    },
    {
      "cell_type": "code",
      "metadata": {
        "id": "vtUwUThZHIhb",
        "colab_type": "code",
        "colab": {
          "base_uri": "https://localhost:8080/",
          "height": 85
        },
        "outputId": "4d6a4e25-b8e3-4f7b-9659-9e327cd37b81"
      },
      "source": [
        "print(f\"status: {lpp.status}, {LpStatus[lpp.status]}\")\n",
        "print(f\"objective: {lpp.objective.value()}\")\n",
        "\n",
        "for variable in x.values():\n",
        "    print(f\"{variable.name}: {variable.value()}\")"
      ],
      "execution_count": null,
      "outputs": [
        {
          "output_type": "stream",
          "text": [
            "status: 1, Optimal\n",
            "objective: 10.0\n",
            "x1: 0.0\n",
            "x2: 2.5\n"
          ],
          "name": "stdout"
        }
      ]
    },
    {
      "cell_type": "markdown",
      "metadata": {
        "id": "CSumQaOBHSvG",
        "colab_type": "text"
      },
      "source": [
        "##Question 3\n",
        "\n",
        "##Model\n",
        "\n",
        "Maximize Z = $2X­_{1} + X_{2}$\n",
        "\n",
        "Subject to,\n",
        "\n",
        "$X_{1} - X_{2} ≤ 10$\n",
        "\n",
        "$2X_{1} ≤ 40$\n",
        "\n",
        "$X_{1} ,X_{2} ≥0$"
      ]
    },
    {
      "cell_type": "markdown",
      "metadata": {
        "id": "FoZU7lseH5g4",
        "colab_type": "text"
      },
      "source": [
        "##Define data"
      ]
    },
    {
      "cell_type": "code",
      "metadata": {
        "id": "B5r1QldwH9CF",
        "colab_type": "code",
        "colab": {}
      },
      "source": [
        "import numpy as np\n",
        "variable=2\n",
        "equation=2\n",
        "cost=np.array([2,1])\n",
        "coefficient=np.array([[1,-1],[2,0]])\n",
        "resource=np.array([10,40])"
      ],
      "execution_count": null,
      "outputs": []
    },
    {
      "cell_type": "markdown",
      "metadata": {
        "id": "5wv1PXdrIL5F",
        "colab_type": "text"
      },
      "source": [
        "##Defining Lpp Problem"
      ]
    },
    {
      "cell_type": "code",
      "metadata": {
        "id": "C0UCAfrgIgRx",
        "colab_type": "code",
        "colab": {}
      },
      "source": [
        "lpp=LpProblem(\"Question3\",LpMaximize)"
      ],
      "execution_count": null,
      "outputs": []
    },
    {
      "cell_type": "markdown",
      "metadata": {
        "id": "34PAu1xMIkx5",
        "colab_type": "text"
      },
      "source": [
        "##Defining Decision varibles"
      ]
    },
    {
      "cell_type": "code",
      "metadata": {
        "id": "PlJuHRd3Itny",
        "colab_type": "code",
        "colab": {}
      },
      "source": [
        "x={i: LpVariable(name=f\"x{i}\", lowBound=0) for i in range(1, variable+1)}\n"
      ],
      "execution_count": null,
      "outputs": []
    },
    {
      "cell_type": "markdown",
      "metadata": {
        "id": "eDTnS68WI2FX",
        "colab_type": "text"
      },
      "source": [
        "##Defining Objective function"
      ]
    },
    {
      "cell_type": "code",
      "metadata": {
        "id": "wUW4dECKI3ed",
        "colab_type": "code",
        "colab": {}
      },
      "source": [
        "lpp+=lpSum(cost[i-1]*x[i]for i in range(1,variable+1))\n"
      ],
      "execution_count": null,
      "outputs": []
    },
    {
      "cell_type": "markdown",
      "metadata": {
        "id": "5BHHO8JLI8a7",
        "colab_type": "text"
      },
      "source": [
        "##Add Constraints"
      ]
    },
    {
      "cell_type": "code",
      "metadata": {
        "id": "CQ526M7VI_t6",
        "colab_type": "code",
        "colab": {}
      },
      "source": [
        "for i in range(1,equation+1):\n",
        "  lpp+=lpSum(coefficient[i-1,j-1]*x[j] for j in range(1,variable+1))<=resource[i-1]"
      ],
      "execution_count": null,
      "outputs": []
    },
    {
      "cell_type": "markdown",
      "metadata": {
        "id": "iN0eEnUCJKwD",
        "colab_type": "text"
      },
      "source": [
        "##Print Model"
      ]
    },
    {
      "cell_type": "code",
      "metadata": {
        "id": "KOE9EJSHJQuA",
        "colab_type": "code",
        "colab": {
          "base_uri": "https://localhost:8080/",
          "height": 221
        },
        "outputId": "6d6f6ff4-0c7f-4dc0-c6a7-0a6ac763992f"
      },
      "source": [
        "print(lpp)"
      ],
      "execution_count": null,
      "outputs": [
        {
          "output_type": "stream",
          "text": [
            "Question3:\n",
            "MAXIMIZE\n",
            "2*x1 + 1*x2 + 0\n",
            "SUBJECT TO\n",
            "_C1: x1 - x2 <= 10\n",
            "\n",
            "_C2: 2 x1 <= 40\n",
            "\n",
            "VARIABLES\n",
            "x1 Continuous\n",
            "x2 Continuous\n",
            "\n"
          ],
          "name": "stdout"
        }
      ]
    },
    {
      "cell_type": "markdown",
      "metadata": {
        "id": "LcZ6xySaJW4C",
        "colab_type": "text"
      },
      "source": [
        "##Solve the optimization problem¶"
      ]
    },
    {
      "cell_type": "code",
      "metadata": {
        "id": "g_Kncct_JZRC",
        "colab_type": "code",
        "colab": {}
      },
      "source": [
        "status=lpp.solve()"
      ],
      "execution_count": null,
      "outputs": []
    },
    {
      "cell_type": "markdown",
      "metadata": {
        "id": "rDN6W1mgJbqI",
        "colab_type": "text"
      },
      "source": [
        "##Results"
      ]
    },
    {
      "cell_type": "code",
      "metadata": {
        "id": "rDF0qXULJd0c",
        "colab_type": "code",
        "colab": {
          "base_uri": "https://localhost:8080/",
          "height": 85
        },
        "outputId": "0606e356-7bd7-42b8-ea11-ce25341e0d42"
      },
      "source": [
        "\n",
        "print(f\"status: {lpp.status}, {LpStatus[lpp.status]}\")\n",
        "print(f\"objective: {lpp.objective.value()}\")\n",
        "\n",
        "for variable in x.values():\n",
        "    print(f\"{variable.name}: {variable.value()}\")"
      ],
      "execution_count": null,
      "outputs": [
        {
          "output_type": "stream",
          "text": [
            "status: -2, Unbounded\n",
            "objective: 50.0\n",
            "x1: 20.0\n",
            "x2: 10.0\n"
          ],
          "name": "stdout"
        }
      ]
    },
    {
      "cell_type": "markdown",
      "metadata": {
        "id": "BZ3hawOeJkgZ",
        "colab_type": "text"
      },
      "source": [
        "##Question 4\n",
        "\n",
        "##Model\n",
        "\n",
        "Minimize Z = $3X­_{1} + 2X_{2}$\n",
        "\n",
        "Subject to,\n",
        "\n",
        "$2X_{1} + X_{2} ≤ 2$\n",
        "\n",
        "$3X_{1} + 4X_{2} >=12$\n",
        "\n",
        "$X_{1} ,X_{2} ≥0$"
      ]
    },
    {
      "cell_type": "markdown",
      "metadata": {
        "id": "INNsRkrGKutj",
        "colab_type": "text"
      },
      "source": [
        "##Define Data"
      ]
    },
    {
      "cell_type": "code",
      "metadata": {
        "id": "THZa6_cFKwJu",
        "colab_type": "code",
        "colab": {}
      },
      "source": [
        "import numpy as np\n",
        "var=2\n",
        "equations=2\n",
        "cost=np.array([3,2])\n",
        "coff=np.array([[2,1],\n",
        "              [-3,-4]])\n",
        "\n",
        "resource=np.array([2,-12])"
      ],
      "execution_count": null,
      "outputs": []
    },
    {
      "cell_type": "markdown",
      "metadata": {
        "id": "MRsecWPiLNPl",
        "colab_type": "text"
      },
      "source": [
        "##Defining Lpp Problem"
      ]
    },
    {
      "cell_type": "code",
      "metadata": {
        "id": "6S20XwTnLPBQ",
        "colab_type": "code",
        "colab": {}
      },
      "source": [
        "lpp=LpProblem(\"Question4\",LpMinimize)\n"
      ],
      "execution_count": null,
      "outputs": []
    },
    {
      "cell_type": "markdown",
      "metadata": {
        "id": "0z3o0t1ZLgI3",
        "colab_type": "text"
      },
      "source": [
        "##Defining Decision varibles"
      ]
    },
    {
      "cell_type": "code",
      "metadata": {
        "id": "QQ-zYSxHLjRY",
        "colab_type": "code",
        "colab": {}
      },
      "source": [
        "x = {i: LpVariable(name=f\"x{i}\", lowBound=0) for i in range(1, var+1)}\n"
      ],
      "execution_count": null,
      "outputs": []
    },
    {
      "cell_type": "markdown",
      "metadata": {
        "id": "bu70o3HcMBrN",
        "colab_type": "text"
      },
      "source": [
        "##Defining Objective function¶\n"
      ]
    },
    {
      "cell_type": "code",
      "metadata": {
        "id": "tOIi1uj8MFTm",
        "colab_type": "code",
        "colab": {}
      },
      "source": [
        "lpp+=lpSum(cost[i-1]*x[i]for i in range(1,var+1))\n"
      ],
      "execution_count": null,
      "outputs": []
    },
    {
      "cell_type": "markdown",
      "metadata": {
        "id": "IxaaT39HMO8a",
        "colab_type": "text"
      },
      "source": [
        "##Add Constraints"
      ]
    },
    {
      "cell_type": "code",
      "metadata": {
        "id": "A84rklh5MS8B",
        "colab_type": "code",
        "colab": {}
      },
      "source": [
        "for i in range(1,equations+1):\n",
        "  lpp+=lpSum(coff[i-1,j-1]*x[j] for j in range(1,var+1))<=resource[i-1]"
      ],
      "execution_count": null,
      "outputs": []
    },
    {
      "cell_type": "markdown",
      "metadata": {
        "id": "jw8TQh1WMkUU",
        "colab_type": "text"
      },
      "source": [
        "##Print Model"
      ]
    },
    {
      "cell_type": "code",
      "metadata": {
        "id": "xjeIKpFXMl8u",
        "colab_type": "code",
        "colab": {
          "base_uri": "https://localhost:8080/",
          "height": 221
        },
        "outputId": "06a4d909-7f0c-458d-960d-0c2bfb5352c6"
      },
      "source": [
        "print(lpp)\n"
      ],
      "execution_count": null,
      "outputs": [
        {
          "output_type": "stream",
          "text": [
            "Question4:\n",
            "MINIMIZE\n",
            "3*x1 + 2*x2 + 0\n",
            "SUBJECT TO\n",
            "_C1: 2 x1 + x2 <= 2\n",
            "\n",
            "_C2: - 3 x1 - 4 x2 <= -12\n",
            "\n",
            "VARIABLES\n",
            "x1 Continuous\n",
            "x2 Continuous\n",
            "\n"
          ],
          "name": "stdout"
        }
      ]
    },
    {
      "cell_type": "markdown",
      "metadata": {
        "id": "Q5uMPAjMMwIS",
        "colab_type": "text"
      },
      "source": [
        "##Solve the optimization problem\n"
      ]
    },
    {
      "cell_type": "code",
      "metadata": {
        "id": "9YQgpQCzMzj8",
        "colab_type": "code",
        "colab": {}
      },
      "source": [
        "status=lpp.solve()\n"
      ],
      "execution_count": null,
      "outputs": []
    },
    {
      "cell_type": "markdown",
      "metadata": {
        "id": "I2AZx0ObM5AI",
        "colab_type": "text"
      },
      "source": [
        "##Results"
      ]
    },
    {
      "cell_type": "code",
      "metadata": {
        "id": "mWSymmdbM7Vg",
        "colab_type": "code",
        "colab": {
          "base_uri": "https://localhost:8080/",
          "height": 85
        },
        "outputId": "4b3aec19-0851-43e1-b008-fd91963b000b"
      },
      "source": [
        "print(f\"status: {lpp.status}, {LpStatus[lpp.status]}\")\n",
        "print(f\"objective: {lpp.objective.value()}\")\n",
        "\n",
        "for variables in x.values():\n",
        "    print(f\"{variables.name}: {variables.value()}\")"
      ],
      "execution_count": null,
      "outputs": [
        {
          "output_type": "stream",
          "text": [
            "status: -1, Infeasible\n",
            "objective: 6.0\n",
            "x1: 0.0\n",
            "x2: 3.0\n"
          ],
          "name": "stdout"
        }
      ]
    }
  ]
}
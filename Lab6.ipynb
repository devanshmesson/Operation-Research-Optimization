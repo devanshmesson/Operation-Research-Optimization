{
  "nbformat": 4,
  "nbformat_minor": 0,
  "metadata": {
    "colab": {
      "name": "Devansh_Messon_037_Lab6.ipynb",
      "provenance": [],
      "authorship_tag": "ABX9TyMyUK4Olg0Wyepvl1IRFnDd",
      "include_colab_link": true
    },
    "kernelspec": {
      "name": "python3",
      "display_name": "Python 3"
    }
  },
  "cells": [
    {
      "cell_type": "markdown",
      "metadata": {
        "id": "view-in-github",
        "colab_type": "text"
      },
      "source": [
        "<a href=\"https://colab.research.google.com/github/zeph0yr/Operation-Research-Optimization/blob/master/Lab6.ipynb\" target=\"_parent\"><img src=\"https://colab.research.google.com/assets/colab-badge.svg\" alt=\"Open In Colab\"/></a>"
      ]
    },
    {
      "cell_type": "code",
      "metadata": {
        "id": "PmD3gIMC5NS0",
        "colab_type": "code",
        "colab": {
          "base_uri": "https://localhost:8080/",
          "height": 306
        },
        "outputId": "d4cabe30-bda4-4a05-c227-f8ae7ded7061"
      },
      "source": [
        "!pip install pulp"
      ],
      "execution_count": 1,
      "outputs": [
        {
          "output_type": "stream",
          "text": [
            "Collecting pulp\n",
            "\u001b[?25l  Downloading https://files.pythonhosted.org/packages/c3/22/5743d7b5d69f84fb63a0b4925862522dbf80e82defcd0c447afb694f3fd0/PuLP-2.3-py3-none-any.whl (40.6MB)\n",
            "\u001b[K     |████████████████████████████████| 40.6MB 90kB/s \n",
            "\u001b[?25hCollecting amply>=0.1.2\n",
            "  Downloading https://files.pythonhosted.org/packages/7f/11/33cb09557ac838d9488779b79e05a2a3c1f3ce9747cd242ba68332736778/amply-0.1.2.tar.gz\n",
            "  Installing build dependencies ... \u001b[?25l\u001b[?25hdone\n",
            "  Getting requirements to build wheel ... \u001b[?25l\u001b[?25hdone\n",
            "    Preparing wheel metadata ... \u001b[?25l\u001b[?25hdone\n",
            "Requirement already satisfied: docutils>=0.3 in /usr/local/lib/python3.6/dist-packages (from amply>=0.1.2->pulp) (0.15.2)\n",
            "Requirement already satisfied: pyparsing in /usr/local/lib/python3.6/dist-packages (from amply>=0.1.2->pulp) (2.4.7)\n",
            "Building wheels for collected packages: amply\n",
            "  Building wheel for amply (PEP 517) ... \u001b[?25l\u001b[?25hdone\n",
            "  Created wheel for amply: filename=amply-0.1.2-cp36-none-any.whl size=16573 sha256=badc66ec55ee80caa4be652b3d19b85f98ece6649688000befb707841ae24d1b\n",
            "  Stored in directory: /root/.cache/pip/wheels/84/18/f7/e5c3ed13ed5bb721763f77d4a924331d59ef115ce61c9d26eb\n",
            "Successfully built amply\n",
            "Installing collected packages: amply, pulp\n",
            "Successfully installed amply-0.1.2 pulp-2.3\n"
          ],
          "name": "stdout"
        }
      ]
    },
    {
      "cell_type": "code",
      "metadata": {
        "id": "Q_rdMyaF5Xts",
        "colab_type": "code",
        "colab": {}
      },
      "source": [
        "from pulp import *"
      ],
      "execution_count": 2,
      "outputs": []
    },
    {
      "cell_type": "markdown",
      "metadata": {
        "id": "xxJCJMTA_TBL",
        "colab_type": "text"
      },
      "source": [
        "#Question 1\n",
        "#Statement:\n",
        "\n",
        "Consider a Belgian company Volsay, which specializes in producing ammoniac gas (NH3) and ammonium chloride (NH4Cl). Volsay has at its disposal 50 units of nitrogen (N), 180 units of hydrogen (H), and 40 units of chlorine (Cl). The company makes a profit of 40 Euros for each sale of an ammoniac gas unit and 50 Euros for each sale of an ammonium chloride unit. Volsay would like a production plan maximizing its profits given its available stocks."
      ]
    },
    {
      "cell_type": "markdown",
      "metadata": {
        "id": "SP6ElAYL_3GV",
        "colab_type": "text"
      },
      "source": [
        "###Model\n",
        "Maximize z=$90*x_{1} + 320*x_{2}+50*x_{3}$\n",
        "\n",
        "Subject to:\n",
        "\n",
        "$x_{1}+3*x_{2}<=230$\n",
        "\n",
        "$x_{1}+4*x_{2}+x_{3}<=270$\n",
        "\n",
        "$x_{1},x_{2},x_{3}>=0$"
      ]
    },
    {
      "cell_type": "markdown",
      "metadata": {
        "id": "dHKgKreOBFXf",
        "colab_type": "text"
      },
      "source": [
        "##Define Data"
      ]
    },
    {
      "cell_type": "code",
      "metadata": {
        "id": "9EOp95IZBHpI",
        "colab_type": "code",
        "colab": {}
      },
      "source": [
        "import numpy as np\n",
        "var=2\n",
        "equations=2\n",
        "cost=np.array([40,50])\n",
        "coff=np.array([[1,1],\n",
        "              [3,4]])\n",
        "\n",
        "resource=np.array([50,180])"
      ],
      "execution_count": 59,
      "outputs": []
    },
    {
      "cell_type": "markdown",
      "metadata": {
        "id": "xl5IH2huB0gO",
        "colab_type": "text"
      },
      "source": [
        "##Defining Lpp Problem"
      ]
    },
    {
      "cell_type": "code",
      "metadata": {
        "id": "AsvLG48eB2fT",
        "colab_type": "code",
        "colab": {}
      },
      "source": [
        "lpp=LpProblem(\"Question1\",LpMaximize)\n"
      ],
      "execution_count": 60,
      "outputs": []
    },
    {
      "cell_type": "markdown",
      "metadata": {
        "id": "oX_a4VAeB-RU",
        "colab_type": "text"
      },
      "source": [
        "##Defining Decision varibles"
      ]
    },
    {
      "cell_type": "code",
      "metadata": {
        "id": "_qpkpr6SCLxw",
        "colab_type": "code",
        "colab": {}
      },
      "source": [
        "x = {i: LpVariable(name=f\"x{i}\", lowBound=0) for i in range(1, var+1)}\n"
      ],
      "execution_count": 61,
      "outputs": []
    },
    {
      "cell_type": "markdown",
      "metadata": {
        "id": "tbadV09nCmtT",
        "colab_type": "text"
      },
      "source": [
        "##Defining Objective function"
      ]
    },
    {
      "cell_type": "markdown",
      "metadata": {
        "id": "Wyx1K_cMRMOU",
        "colab_type": "text"
      },
      "source": [
        ""
      ]
    },
    {
      "cell_type": "code",
      "metadata": {
        "id": "iATndXfsCrYU",
        "colab_type": "code",
        "colab": {}
      },
      "source": [
        "lpp+=lpSum(cost[i-1]*x[i]for i in range(1,var+1))"
      ],
      "execution_count": 62,
      "outputs": []
    },
    {
      "cell_type": "markdown",
      "metadata": {
        "id": "74haHPkFDxRZ",
        "colab_type": "text"
      },
      "source": [
        "##Add Constraints"
      ]
    },
    {
      "cell_type": "code",
      "metadata": {
        "id": "szKeGzl_D0Bn",
        "colab_type": "code",
        "colab": {}
      },
      "source": [
        "for i in range(1,equations+1):\n",
        "  lpp+=lpSum(coff[i-1,j-1]*x[j] for j in range(1,var+1))<=resource[i-1]"
      ],
      "execution_count": 63,
      "outputs": []
    },
    {
      "cell_type": "markdown",
      "metadata": {
        "id": "rAwtzyedE4Qv",
        "colab_type": "text"
      },
      "source": [
        "##Print Model"
      ]
    },
    {
      "cell_type": "code",
      "metadata": {
        "id": "2t92gAlBE42C",
        "colab_type": "code",
        "colab": {
          "base_uri": "https://localhost:8080/",
          "height": 221
        },
        "outputId": "2b5729d7-6147-4cbc-dd24-6037db15a2bf"
      },
      "source": [
        "print(lpp)"
      ],
      "execution_count": 64,
      "outputs": [
        {
          "output_type": "stream",
          "text": [
            "Question1:\n",
            "MAXIMIZE\n",
            "40*x1 + 50*x2 + 0\n",
            "SUBJECT TO\n",
            "_C1: x1 + x2 <= 50\n",
            "\n",
            "_C2: 3 x1 + 4 x2 <= 180\n",
            "\n",
            "VARIABLES\n",
            "x1 Continuous\n",
            "x2 Continuous\n",
            "\n"
          ],
          "name": "stdout"
        }
      ]
    },
    {
      "cell_type": "markdown",
      "metadata": {
        "id": "mP1NKj6vGBUD",
        "colab_type": "text"
      },
      "source": [
        "##Solve the optimization problem"
      ]
    },
    {
      "cell_type": "code",
      "metadata": {
        "id": "HQmfl_OdGGYU",
        "colab_type": "code",
        "colab": {}
      },
      "source": [
        "status=lpp.solve()"
      ],
      "execution_count": 65,
      "outputs": []
    },
    {
      "cell_type": "markdown",
      "metadata": {
        "id": "rKdPuY4aGO41",
        "colab_type": "text"
      },
      "source": [
        "##Results"
      ]
    },
    {
      "cell_type": "code",
      "metadata": {
        "id": "ed5W4_0ZGPmX",
        "colab_type": "code",
        "colab": {
          "base_uri": "https://localhost:8080/",
          "height": 85
        },
        "outputId": "d06b702f-e8b7-4917-c31d-d5d95a735c18"
      },
      "source": [
        "print(f\"status: {lpp.status}, {LpStatus[lpp.status]}\")\n",
        "print(f\"objective: {lpp.objective.value()}\")\n",
        "\n",
        "for variables in x.values():\n",
        "    print(f\"{variables.name}: {variables.value()}\")"
      ],
      "execution_count": 66,
      "outputs": [
        {
          "output_type": "stream",
          "text": [
            "status: 1, Optimal\n",
            "objective: 2300.0\n",
            "x1: 20.0\n",
            "x2: 30.0\n"
          ],
          "name": "stdout"
        }
      ]
    },
    {
      "cell_type": "markdown",
      "metadata": {
        "id": "eqs-iEX4IA_e",
        "colab_type": "text"
      },
      "source": [
        "##Question 3\n",
        "\n",
        "##Statement\n",
        "\n",
        "$Maximize Z=4x_{1}+3x_{2}$\n",
        "\n",
        "Subject to\n",
        "\n",
        "$2x_{1}+x_{2} ≤ 1000$\n",
        "\n",
        "$x_{1}+x_{2} ≤ 800$\n",
        "\n",
        "$x_{1} ≤ 400$\n",
        "\n",
        "$x_{2} ≤ 700, x_{1},x_{2}  ≥0$\n",
        "\n"
      ]
    },
    {
      "cell_type": "markdown",
      "metadata": {
        "id": "3fU0Uq-aPk14",
        "colab_type": "text"
      },
      "source": [
        "##Define Data"
      ]
    },
    {
      "cell_type": "code",
      "metadata": {
        "id": "tzUHS2N8PmF-",
        "colab_type": "code",
        "colab": {}
      },
      "source": [
        "import numpy as np\n",
        "var=2\n",
        "equations=4\n",
        "cost=np.array([4,3])\n",
        "coff=np.array([[2,1],\n",
        "              [1,1],\n",
        "              [1,0],\n",
        "              [0,1],\n",
        "               ])\n",
        "\n",
        "resource=np.array([1000,800,400,700])"
      ],
      "execution_count": 68,
      "outputs": []
    },
    {
      "cell_type": "markdown",
      "metadata": {
        "id": "CYBo9uKTQsWU",
        "colab_type": "text"
      },
      "source": [
        "##Defining Lpp Problem\n"
      ]
    },
    {
      "cell_type": "code",
      "metadata": {
        "id": "OqAzCoXMQxWB",
        "colab_type": "code",
        "colab": {}
      },
      "source": [
        "lpp=LpProblem(\"Question2\",LpMaximize)"
      ],
      "execution_count": 70,
      "outputs": []
    },
    {
      "cell_type": "markdown",
      "metadata": {
        "id": "C3t_o4F8Q52H",
        "colab_type": "text"
      },
      "source": [
        "#Defining Decision varibles"
      ]
    },
    {
      "cell_type": "code",
      "metadata": {
        "id": "h79YusE9Q-of",
        "colab_type": "code",
        "colab": {}
      },
      "source": [
        "x={i: LpVariable(name=f\"x{i}\", lowBound=0) for i in range(1, var+1)}"
      ],
      "execution_count": 71,
      "outputs": []
    },
    {
      "cell_type": "markdown",
      "metadata": {
        "id": "ckFglAHbRNMU",
        "colab_type": "text"
      },
      "source": [
        "##Defining Objective function"
      ]
    },
    {
      "cell_type": "code",
      "metadata": {
        "id": "WScTDfqeRPRA",
        "colab_type": "code",
        "colab": {}
      },
      "source": [
        "lpp+=lpSum(cost[i-1]*x[i]for i in range(1,var+1))"
      ],
      "execution_count": 72,
      "outputs": []
    },
    {
      "cell_type": "markdown",
      "metadata": {
        "id": "8_gQ1PAfRZrA",
        "colab_type": "text"
      },
      "source": [
        "##Add Constraints"
      ]
    },
    {
      "cell_type": "code",
      "metadata": {
        "id": "IuNwKF50Rd3a",
        "colab_type": "code",
        "colab": {}
      },
      "source": [
        "for i in range(1,equations+1):\n",
        "  lpp+=lpSum(coff[i-1,j-1]*x[j] for j in range(1,var+1))<=resource[i-1]"
      ],
      "execution_count": 73,
      "outputs": []
    },
    {
      "cell_type": "markdown",
      "metadata": {
        "id": "ULNysFE0RiLE",
        "colab_type": "text"
      },
      "source": [
        "##Print Model"
      ]
    },
    {
      "cell_type": "code",
      "metadata": {
        "id": "_GIJ0AD_Rj6e",
        "colab_type": "code",
        "colab": {
          "base_uri": "https://localhost:8080/",
          "height": 289
        },
        "outputId": "64ee0401-a3ff-4931-93d3-4a34f3772f64"
      },
      "source": [
        "print(lpp)"
      ],
      "execution_count": 74,
      "outputs": [
        {
          "output_type": "stream",
          "text": [
            "Question2:\n",
            "MAXIMIZE\n",
            "4*x1 + 3*x2 + 0\n",
            "SUBJECT TO\n",
            "_C1: 2 x1 + x2 <= 1000\n",
            "\n",
            "_C2: x1 + x2 <= 800\n",
            "\n",
            "_C3: x1 <= 400\n",
            "\n",
            "_C4: x2 <= 700\n",
            "\n",
            "VARIABLES\n",
            "x1 Continuous\n",
            "x2 Continuous\n",
            "\n"
          ],
          "name": "stdout"
        }
      ]
    },
    {
      "cell_type": "markdown",
      "metadata": {
        "id": "Ow_nU2-NRqGA",
        "colab_type": "text"
      },
      "source": [
        "##Solve the optimization problem"
      ]
    },
    {
      "cell_type": "code",
      "metadata": {
        "id": "sM7ZsZtERx7A",
        "colab_type": "code",
        "colab": {}
      },
      "source": [
        "status=lpp.solve()"
      ],
      "execution_count": 75,
      "outputs": []
    },
    {
      "cell_type": "markdown",
      "metadata": {
        "id": "bDivGpx_R22B",
        "colab_type": "text"
      },
      "source": [
        "##Results"
      ]
    },
    {
      "cell_type": "code",
      "metadata": {
        "id": "oNZeP1pSR6pq",
        "colab_type": "code",
        "colab": {
          "base_uri": "https://localhost:8080/",
          "height": 85
        },
        "outputId": "b19ca6f2-6aa2-46ed-ae69-17a8e5bfd42e"
      },
      "source": [
        "print(f\"status: {lpp.status}, {LpStatus[lpp.status]}\")\n",
        "print(f\"objective: {lpp.objective.value()}\")\n",
        "\n",
        "for variables in x.values():\n",
        "    print(f\"{variables.name}: {variables.value()}\")"
      ],
      "execution_count": 76,
      "outputs": [
        {
          "output_type": "stream",
          "text": [
            "status: 1, Optimal\n",
            "objective: 2600.0\n",
            "x1: 200.0\n",
            "x2: 600.0\n"
          ],
          "name": "stdout"
        }
      ]
    }
  ]
}
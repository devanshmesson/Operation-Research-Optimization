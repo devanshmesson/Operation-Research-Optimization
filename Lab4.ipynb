{
  "nbformat": 4,
  "nbformat_minor": 0,
  "metadata": {
    "colab": {
      "name": "DevanshMesson_037_Lab4.ipynb",
      "provenance": [],
      "include_colab_link": true
    },
    "kernelspec": {
      "name": "python3",
      "display_name": "Python 3"
    }
  },
  "cells": [
    {
      "cell_type": "markdown",
      "metadata": {
        "id": "view-in-github",
        "colab_type": "text"
      },
      "source": [
        "<a href=\"https://colab.research.google.com/github/zeph0yr/Operation-Research-Optimization/blob/master/DevanshMesson_037_Lab4.ipynb\" target=\"_parent\"><img src=\"https://colab.research.google.com/assets/colab-badge.svg\" alt=\"Open In Colab\"/></a>"
      ]
    },
    {
      "cell_type": "code",
      "metadata": {
        "id": "hwl2cWtHzaUd",
        "colab_type": "code",
        "colab": {
          "base_uri": "https://localhost:8080/",
          "height": 306
        },
        "outputId": "2824db26-ccee-4ff6-cd5d-d985678f958a"
      },
      "source": [
        "!pip install pulp\n",
        "from pulp import *\n"
      ],
      "execution_count": null,
      "outputs": [
        {
          "output_type": "stream",
          "text": [
            "Collecting pulp\n",
            "\u001b[?25l  Downloading https://files.pythonhosted.org/packages/c3/22/5743d7b5d69f84fb63a0b4925862522dbf80e82defcd0c447afb694f3fd0/PuLP-2.3-py3-none-any.whl (40.6MB)\n",
            "\u001b[K     |████████████████████████████████| 40.6MB 93kB/s \n",
            "\u001b[?25hCollecting amply>=0.1.2\n",
            "  Downloading https://files.pythonhosted.org/packages/7f/11/33cb09557ac838d9488779b79e05a2a3c1f3ce9747cd242ba68332736778/amply-0.1.2.tar.gz\n",
            "  Installing build dependencies ... \u001b[?25l\u001b[?25hdone\n",
            "  Getting requirements to build wheel ... \u001b[?25l\u001b[?25hdone\n",
            "    Preparing wheel metadata ... \u001b[?25l\u001b[?25hdone\n",
            "Requirement already satisfied: pyparsing in /usr/local/lib/python3.6/dist-packages (from amply>=0.1.2->pulp) (2.4.7)\n",
            "Requirement already satisfied: docutils>=0.3 in /usr/local/lib/python3.6/dist-packages (from amply>=0.1.2->pulp) (0.15.2)\n",
            "Building wheels for collected packages: amply\n",
            "  Building wheel for amply (PEP 517) ... \u001b[?25l\u001b[?25hdone\n",
            "  Created wheel for amply: filename=amply-0.1.2-cp36-none-any.whl size=16573 sha256=26b1c6644d14ce1b963a9a54b5cbac0fe913de1b219e64ecc689123686400417\n",
            "  Stored in directory: /root/.cache/pip/wheels/84/18/f7/e5c3ed13ed5bb721763f77d4a924331d59ef115ce61c9d26eb\n",
            "Successfully built amply\n",
            "Installing collected packages: amply, pulp\n",
            "Successfully installed amply-0.1.2 pulp-2.3\n"
          ],
          "name": "stdout"
        }
      ]
    },
    {
      "cell_type": "markdown",
      "metadata": {
        "id": "I3grDqCpzzNB",
        "colab_type": "text"
      },
      "source": [
        "#Question 1\n",
        "##Statement\n",
        "\n",
        "###Maximize \n",
        "$z=7*x+10*y$\n",
        "####Subject to :\n",
        "$3*y-x<=6$\n",
        "\n",
        "$7*x+y<=35$\n",
        "\n",
        "$x,y>=0$"
      ]
    },
    {
      "cell_type": "markdown",
      "metadata": {
        "id": "8E_4xaho0UXC",
        "colab_type": "text"
      },
      "source": [
        "##Model"
      ]
    },
    {
      "cell_type": "code",
      "metadata": {
        "id": "vJWRim_h0YOa",
        "colab_type": "code",
        "colab": {}
      },
      "source": [
        "#defining Integer programming problrm\n",
        "ipp=LpProblem(\"myipProblem\",LpMaximize)\n",
        "\n",
        "#Defining Two Decision Variables\n",
        "x=LpVariable('x',lowBound=0,cat='Integer')\n",
        "y=LpVariable('y',lowBound=0,cat='Integer')\n",
        "\n",
        "#Objective Function\n",
        "ipp+=7*x+10*y\n",
        "\n",
        "#Subject to Constraints\n",
        "ipp+=3*y-x<=6\n",
        "ipp+=7*x+y<=35\n",
        "\n"
      ],
      "execution_count": null,
      "outputs": []
    },
    {
      "cell_type": "markdown",
      "metadata": {
        "id": "OkNee27qCjYB",
        "colab_type": "text"
      },
      "source": [
        "###Calling Integer Programming Problem"
      ]
    },
    {
      "cell_type": "code",
      "metadata": {
        "id": "2dZcM5jTztf5",
        "colab_type": "code",
        "colab": {
          "base_uri": "https://localhost:8080/",
          "height": 204
        },
        "outputId": "3d98490b-4bac-4096-acac-03a573aaa983"
      },
      "source": [
        "#Calling Integer Programming Problem\n",
        "ipp"
      ],
      "execution_count": null,
      "outputs": [
        {
          "output_type": "execute_result",
          "data": {
            "text/plain": [
              "myipProblem:\n",
              "MAXIMIZE\n",
              "7*x + 10*y + 0\n",
              "SUBJECT TO\n",
              "_C1: - x + 3 y <= 6\n",
              "\n",
              "_C2: 7 x + y <= 35\n",
              "\n",
              "VARIABLES\n",
              "0 <= x Integer\n",
              "0 <= y Integer"
            ]
          },
          "metadata": {
            "tags": []
          },
          "execution_count": 25
        }
      ]
    },
    {
      "cell_type": "markdown",
      "metadata": {
        "id": "bv_WnKqPDEE2",
        "colab_type": "text"
      },
      "source": [
        "###Solving Integer Programming Problem\n"
      ]
    },
    {
      "cell_type": "code",
      "metadata": {
        "id": "9rEyREW61w3x",
        "colab_type": "code",
        "colab": {
          "base_uri": "https://localhost:8080/",
          "height": 34
        },
        "outputId": "0ff7f023-f5f8-4599-ee51-cfe5994d32a8"
      },
      "source": [
        "#Solving Integer Programming Problem\n",
        "ipp.solve()"
      ],
      "execution_count": null,
      "outputs": [
        {
          "output_type": "execute_result",
          "data": {
            "text/plain": [
              "1"
            ]
          },
          "metadata": {
            "tags": []
          },
          "execution_count": 26
        }
      ]
    },
    {
      "cell_type": "markdown",
      "metadata": {
        "id": "RLhtq3gVDLpn",
        "colab_type": "text"
      },
      "source": [
        "##Show Status of Integer Programming Problem"
      ]
    },
    {
      "cell_type": "code",
      "metadata": {
        "id": "3pj-IoqZ16NA",
        "colab_type": "code",
        "colab": {
          "base_uri": "https://localhost:8080/",
          "height": 35
        },
        "outputId": "e73ebdbc-a740-4ec8-f548-df18bab543bd"
      },
      "source": [
        "#Show Lpp Status\n",
        "LpStatus[ipp.status]"
      ],
      "execution_count": null,
      "outputs": [
        {
          "output_type": "execute_result",
          "data": {
            "application/vnd.google.colaboratory.intrinsic+json": {
              "type": "string"
            },
            "text/plain": [
              "'Optimal'"
            ]
          },
          "metadata": {
            "tags": []
          },
          "execution_count": 27
        }
      ]
    },
    {
      "cell_type": "markdown",
      "metadata": {
        "id": "czjGhyIDDRR0",
        "colab_type": "text"
      },
      "source": [
        "##Print Values of Decision variables x and y"
      ]
    },
    {
      "cell_type": "code",
      "metadata": {
        "id": "KLpEZZOQ2JXm",
        "colab_type": "code",
        "colab": {
          "base_uri": "https://localhost:8080/",
          "height": 51
        },
        "outputId": "944544a6-784e-48b3-d3f5-9b0ee42a17cd"
      },
      "source": [
        "#Print Values of Decision variables x and y\n",
        "for variable in ipp.variables():\n",
        "  print(\"{} = {}\".format(variable.name,variable.varValue))"
      ],
      "execution_count": null,
      "outputs": [
        {
          "output_type": "stream",
          "text": [
            "x = 4.0\n",
            "y = 3.0\n"
          ],
          "name": "stdout"
        }
      ]
    },
    {
      "cell_type": "markdown",
      "metadata": {
        "id": "WdkDstqCDWL2",
        "colab_type": "text"
      },
      "source": [
        "##Final Maximized Value"
      ]
    },
    {
      "cell_type": "code",
      "metadata": {
        "id": "sS4H2jUO7qpb",
        "colab_type": "code",
        "colab": {
          "base_uri": "https://localhost:8080/",
          "height": 34
        },
        "outputId": "9e1c617d-c908-4306-e1eb-095206d5e78e"
      },
      "source": [
        "value(ipp.objective)"
      ],
      "execution_count": null,
      "outputs": [
        {
          "output_type": "execute_result",
          "data": {
            "text/plain": [
              "58.0"
            ]
          },
          "metadata": {
            "tags": []
          },
          "execution_count": 29
        }
      ]
    },
    {
      "cell_type": "markdown",
      "metadata": {
        "id": "DPmllhqB2mib",
        "colab_type": "text"
      },
      "source": [
        "#Question 2\n",
        "##Statement\n",
        "\n",
        "\n",
        "###Maximize \n",
        "$z=5*x+8*y$\n",
        "####Subject to :\n",
        "$x+y<=6$\n",
        "\n",
        "$5*x+9*y<=45$\n",
        "\n",
        "$x,y>=0$"
      ]
    },
    {
      "cell_type": "code",
      "metadata": {
        "id": "-AHYKr5k20da",
        "colab_type": "code",
        "colab": {}
      },
      "source": [
        "#Defining Integer Programming Problem\n",
        "ipp1=LpProblem(\"IpProblem\",LpMaximize)\n",
        "\n",
        "#Defining Two Decision Variables\n",
        "x=LpVariable('x',lowBound=0,cat='Integer')\n",
        "y=LpVariable('y',lowBound=0,cat='Integer')\n",
        "\n",
        "#Objective Function\n",
        "ipp1+=5*x+8*y\n",
        "\n",
        "#Subject To:\n",
        "ipp1+=x+y<=6\n",
        "ipp1+=5*x+9*y<=45\n"
      ],
      "execution_count": null,
      "outputs": []
    },
    {
      "cell_type": "markdown",
      "metadata": {
        "id": "gngU6hKCFMhf",
        "colab_type": "text"
      },
      "source": [
        "##Calling Integer Programming Problem"
      ]
    },
    {
      "cell_type": "code",
      "metadata": {
        "id": "AAa2vYnr3otm",
        "colab_type": "code",
        "colab": {
          "base_uri": "https://localhost:8080/",
          "height": 204
        },
        "outputId": "9c16e430-0279-4d30-a474-d51f303e3c3f"
      },
      "source": [
        "#Calling Integer Programming Problem\n",
        "ipp1"
      ],
      "execution_count": null,
      "outputs": [
        {
          "output_type": "execute_result",
          "data": {
            "text/plain": [
              "IpProblem:\n",
              "MAXIMIZE\n",
              "5*x + 8*y + 0\n",
              "SUBJECT TO\n",
              "_C1: x + y <= 6\n",
              "\n",
              "_C2: 5 x + 9 y <= 45\n",
              "\n",
              "VARIABLES\n",
              "0 <= x Integer\n",
              "0 <= y Integer"
            ]
          },
          "metadata": {
            "tags": []
          },
          "execution_count": 31
        }
      ]
    },
    {
      "cell_type": "markdown",
      "metadata": {
        "id": "JgavR-2rD_vu",
        "colab_type": "text"
      },
      "source": [
        "##Solving Integer Programming Problem\n"
      ]
    },
    {
      "cell_type": "code",
      "metadata": {
        "id": "rLvpeVJa3vgE",
        "colab_type": "code",
        "colab": {
          "base_uri": "https://localhost:8080/",
          "height": 34
        },
        "outputId": "0b1d108c-9f84-42df-e488-4813fb3dd439"
      },
      "source": [
        "#Solving Integer Programming Problem\n",
        "ipp1.solve()"
      ],
      "execution_count": null,
      "outputs": [
        {
          "output_type": "execute_result",
          "data": {
            "text/plain": [
              "1"
            ]
          },
          "metadata": {
            "tags": []
          },
          "execution_count": 32
        }
      ]
    },
    {
      "cell_type": "markdown",
      "metadata": {
        "id": "uC8fC4zKEDy6",
        "colab_type": "text"
      },
      "source": [
        "##Show Status of Integer Programming Problem"
      ]
    },
    {
      "cell_type": "code",
      "metadata": {
        "id": "YlK7O6VG34tw",
        "colab_type": "code",
        "colab": {
          "base_uri": "https://localhost:8080/",
          "height": 35
        },
        "outputId": "1d9ea591-bdec-47ca-8eaa-41303dd0d4d5"
      },
      "source": [
        "#Show Status\n",
        "LpStatus[ipp1.status]"
      ],
      "execution_count": null,
      "outputs": [
        {
          "output_type": "execute_result",
          "data": {
            "application/vnd.google.colaboratory.intrinsic+json": {
              "type": "string"
            },
            "text/plain": [
              "'Optimal'"
            ]
          },
          "metadata": {
            "tags": []
          },
          "execution_count": 33
        }
      ]
    },
    {
      "cell_type": "markdown",
      "metadata": {
        "id": "kvNSfToREKhy",
        "colab_type": "text"
      },
      "source": [
        "##Print Values of decision variables x and y\n"
      ]
    },
    {
      "cell_type": "code",
      "metadata": {
        "id": "8jemo_xp4JPY",
        "colab_type": "code",
        "colab": {
          "base_uri": "https://localhost:8080/",
          "height": 51
        },
        "outputId": "9431db80-a89e-4aaf-97f8-4d066d9095b6"
      },
      "source": [
        "#Print Values of decision variables x and y\n",
        "for variable in ipp1.variables():\n",
        "  print(\"{} = {}\".format(variable.name,variable.varValue))"
      ],
      "execution_count": null,
      "outputs": [
        {
          "output_type": "stream",
          "text": [
            "x = 0.0\n",
            "y = 5.0\n"
          ],
          "name": "stdout"
        }
      ]
    },
    {
      "cell_type": "markdown",
      "metadata": {
        "id": "yQplgxpSEO3c",
        "colab_type": "text"
      },
      "source": [
        "##Final Maximized Value"
      ]
    },
    {
      "cell_type": "code",
      "metadata": {
        "id": "4OmkXM5H7hVM",
        "colab_type": "code",
        "colab": {
          "base_uri": "https://localhost:8080/",
          "height": 34
        },
        "outputId": "df19a192-8cc7-4596-a850-21b2abf664a1"
      },
      "source": [
        "value(ipp1.objective)"
      ],
      "execution_count": null,
      "outputs": [
        {
          "output_type": "execute_result",
          "data": {
            "text/plain": [
              "40.0"
            ]
          },
          "metadata": {
            "tags": []
          },
          "execution_count": 35
        }
      ]
    },
    {
      "cell_type": "markdown",
      "metadata": {
        "id": "N2mVWA1j4g9w",
        "colab_type": "text"
      },
      "source": [
        "#Question 3\n",
        "##Statement\n",
        "\n",
        "A machine is used to produce two interchangeable products. The daily capacity of the machine can produce at most 20 units of product 1 and 10 units of product 2. Alternatively, the machine can be adjusted to produce at most 12 units of product 1 and 25 units of product 2 daily. Market analysis shows that the maximum daily demand for the two products combined is 35 units. Given that the unit profits for the two respective products are $10 and $12, which of the two machine settings should be selected? Formulate the problem as an IPP and find the optimum"
      ]
    },
    {
      "cell_type": "markdown",
      "metadata": {
        "id": "z_LBJ1kbFxbU",
        "colab_type": "text"
      },
      "source": [
        "##Model"
      ]
    },
    {
      "cell_type": "code",
      "metadata": {
        "id": "KlbIxu6A7ULI",
        "colab_type": "code",
        "colab": {}
      },
      "source": [
        "#Defining Integer Programming Problem\n",
        "ipp2=LpProblem(\"IpProblem\",LpMaximize)\n",
        "\n",
        "#Defining Two Decision Variables\n",
        "x=LpVariable('x',lowBound=0,cat='Integer')\n",
        "y=LpVariable('y',lowBound=0,cat='Integer')\n",
        "\n",
        "#Objective Function\n",
        "ipp2+=10*x+12*y\n",
        "\n",
        "#Subject To:\n",
        "ipp2+=20*x+10*y<=35\n",
        "ipp2+=12*x+25*y<=35"
      ],
      "execution_count": null,
      "outputs": []
    },
    {
      "cell_type": "markdown",
      "metadata": {
        "id": "gHFg8mqTFcLl",
        "colab_type": "text"
      },
      "source": [
        "##Calling Integer Programming Problem"
      ]
    },
    {
      "cell_type": "code",
      "metadata": {
        "id": "QU5Ym9jTFW1j",
        "colab_type": "code",
        "colab": {
          "base_uri": "https://localhost:8080/",
          "height": 204
        },
        "outputId": "8a5c3e34-1b24-46a3-acde-1854b0510bd4"
      },
      "source": [
        "ipp2"
      ],
      "execution_count": null,
      "outputs": [
        {
          "output_type": "execute_result",
          "data": {
            "text/plain": [
              "IpProblem:\n",
              "MAXIMIZE\n",
              "10*x + 12*y + 0\n",
              "SUBJECT TO\n",
              "_C1: 20 x + 10 y <= 35\n",
              "\n",
              "_C2: 12 x + 25 y <= 35\n",
              "\n",
              "VARIABLES\n",
              "0 <= x Integer\n",
              "0 <= y Integer"
            ]
          },
          "metadata": {
            "tags": []
          },
          "execution_count": 52
        }
      ]
    },
    {
      "cell_type": "markdown",
      "metadata": {
        "id": "m-6KNR-6EfYy",
        "colab_type": "text"
      },
      "source": [
        "##Solving Integer Programming Problem"
      ]
    },
    {
      "cell_type": "code",
      "metadata": {
        "id": "ZalKExhM8Sfv",
        "colab_type": "code",
        "colab": {
          "base_uri": "https://localhost:8080/",
          "height": 34
        },
        "outputId": "8921d783-944a-46b8-c325-c9dafc5d0050"
      },
      "source": [
        "ipp2.solve()"
      ],
      "execution_count": null,
      "outputs": [
        {
          "output_type": "execute_result",
          "data": {
            "text/plain": [
              "1"
            ]
          },
          "metadata": {
            "tags": []
          },
          "execution_count": 53
        }
      ]
    },
    {
      "cell_type": "markdown",
      "metadata": {
        "id": "gAEtSy41Euz5",
        "colab_type": "text"
      },
      "source": [
        "##Show Status of Integer Programming Problem"
      ]
    },
    {
      "cell_type": "code",
      "metadata": {
        "id": "dQr8_qmp8Uaf",
        "colab_type": "code",
        "colab": {
          "base_uri": "https://localhost:8080/",
          "height": 35
        },
        "outputId": "46deaae9-ebe1-4a88-eacb-bbe43460c537"
      },
      "source": [
        "LpStatus[ipp2.status]"
      ],
      "execution_count": null,
      "outputs": [
        {
          "output_type": "execute_result",
          "data": {
            "application/vnd.google.colaboratory.intrinsic+json": {
              "type": "string"
            },
            "text/plain": [
              "'Optimal'"
            ]
          },
          "metadata": {
            "tags": []
          },
          "execution_count": 54
        }
      ]
    },
    {
      "cell_type": "markdown",
      "metadata": {
        "id": "uNud90LyE1Xr",
        "colab_type": "text"
      },
      "source": [
        "##Print Values of decision variables x and y"
      ]
    },
    {
      "cell_type": "code",
      "metadata": {
        "id": "GNm7pqTY8eIQ",
        "colab_type": "code",
        "colab": {
          "base_uri": "https://localhost:8080/",
          "height": 51
        },
        "outputId": "21188501-8292-4603-da3b-6e0d908eeefd"
      },
      "source": [
        "#Print Values of decision variables x and y\n",
        "for variable in ipp2.variables():\n",
        "  print(\"{} = {}\".format(variable.name,variable.varValue))"
      ],
      "execution_count": null,
      "outputs": [
        {
          "output_type": "stream",
          "text": [
            "x = 0.0\n",
            "y = 1.0\n"
          ],
          "name": "stdout"
        }
      ]
    },
    {
      "cell_type": "markdown",
      "metadata": {
        "id": "Dz-5ZR2KE77n",
        "colab_type": "text"
      },
      "source": [
        "##Final Maximized Value"
      ]
    },
    {
      "cell_type": "code",
      "metadata": {
        "id": "vPa9aR5Z8qzu",
        "colab_type": "code",
        "colab": {
          "base_uri": "https://localhost:8080/",
          "height": 34
        },
        "outputId": "cb7b4028-0563-4085-d38a-79f2389742cf"
      },
      "source": [
        "value(ipp2.objective)"
      ],
      "execution_count": null,
      "outputs": [
        {
          "output_type": "execute_result",
          "data": {
            "text/plain": [
              "12.0"
            ]
          },
          "metadata": {
            "tags": []
          },
          "execution_count": 56
        }
      ]
    }
  ]
}

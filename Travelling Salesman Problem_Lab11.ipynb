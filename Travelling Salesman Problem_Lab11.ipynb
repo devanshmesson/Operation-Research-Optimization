{
  "nbformat": 4,
  "nbformat_minor": 0,
  "metadata": {
    "colab": {
      "name": "Devansh_Messon_37_Lab11.ipynb",
      "provenance": [],
      "include_colab_link": true
    },
    "kernelspec": {
      "name": "python3",
      "display_name": "Python 3"
    }
  },
  "cells": [
    {
      "cell_type": "markdown",
      "metadata": {
        "id": "view-in-github",
        "colab_type": "text"
      },
      "source": [
        "<a href=\"https://colab.research.google.com/github/zeph0yr/Operation-Research-Optimization/blob/master/Travelling%20Salesman%20Problem_Lab11.ipynb\" target=\"_parent\"><img src=\"https://colab.research.google.com/assets/colab-badge.svg\" alt=\"Open In Colab\"/></a>"
      ]
    },
    {
      "cell_type": "code",
      "metadata": {
        "id": "CGCStO7SZZcX",
        "outputId": "8dbc5bca-94ae-4159-9bc4-8f5afb78ac11",
        "colab": {
          "base_uri": "https://localhost:8080/",
          "height": 170
        }
      },
      "source": [
        "!pip install pulp"
      ],
      "execution_count": null,
      "outputs": [
        {
          "output_type": "stream",
          "text": [
            "Collecting pulp\n",
            "\u001b[?25l  Downloading https://files.pythonhosted.org/packages/89/0c/6d80f5f81a92d1733cc5ca180491b8a3cd5839e335627a0046c81b7d3d3d/PuLP-2.3.1-py3-none-any.whl (40.6MB)\n",
            "\u001b[K     |████████████████████████████████| 40.6MB 104kB/s \n",
            "\u001b[?25hCollecting amply>=0.1.2\n",
            "  Downloading https://files.pythonhosted.org/packages/f3/c5/dfa09dd2595a2ab2ab4e6fa7bebef9565812722e1980d04b0edce5032066/amply-0.1.4-py3-none-any.whl\n",
            "Requirement already satisfied: docutils>=0.3 in /usr/local/lib/python3.6/dist-packages (from amply>=0.1.2->pulp) (0.16)\n",
            "Requirement already satisfied: pyparsing in /usr/local/lib/python3.6/dist-packages (from amply>=0.1.2->pulp) (2.4.7)\n",
            "Installing collected packages: amply, pulp\n",
            "Successfully installed amply-0.1.4 pulp-2.3.1\n"
          ],
          "name": "stdout"
        }
      ]
    },
    {
      "cell_type": "code",
      "metadata": {
        "id": "UXSjpLENZigV"
      },
      "source": [
        "from pulp import *\n",
        "import numpy as np\n",
        "import pandas as pd"
      ],
      "execution_count": null,
      "outputs": []
    },
    {
      "cell_type": "markdown",
      "metadata": {
        "id": "fztoOJH8Zq9E"
      },
      "source": [
        "#Question 1\n",
        "\n"
      ]
    },
    {
      "cell_type": "markdown",
      "metadata": {
        "id": "37s9yHDAZwg_"
      },
      "source": [
        "##Import .csv file"
      ]
    },
    {
      "cell_type": "code",
      "metadata": {
        "id": "pJ4PgexpZ0Dx",
        "outputId": "e054c41c-9352-467f-97f2-647161075f51",
        "colab": {
          "resources": {
            "http://localhost:8080/nbextensions/google.colab/files.js": {
              "data": "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",
              "ok": true,
              "headers": [
                [
                  "content-type",
                  "application/javascript"
                ]
              ],
              "status": 200,
              "status_text": ""
            }
          },
          "base_uri": "https://localhost:8080/",
          "height": 89
        }
      },
      "source": [
        "from google.colab import files\n",
        "data=files.upload()\n",
        "for x in data.keys():\n",
        "  print(f\"User uploaded file {x} with size {len(data[x])} bytes\")"
      ],
      "execution_count": null,
      "outputs": [
        {
          "output_type": "display_data",
          "data": {
            "text/html": [
              "\n",
              "     <input type=\"file\" id=\"files-c6477cf3-261b-4df5-b441-1cb6f3c46710\" name=\"files[]\" multiple disabled\n",
              "        style=\"border:none\" />\n",
              "     <output id=\"result-c6477cf3-261b-4df5-b441-1cb6f3c46710\">\n",
              "      Upload widget is only available when the cell has been executed in the\n",
              "      current browser session. Please rerun this cell to enable.\n",
              "      </output>\n",
              "      <script src=\"/nbextensions/google.colab/files.js\"></script> "
            ],
            "text/plain": [
              "<IPython.core.display.HTML object>"
            ]
          },
          "metadata": {
            "tags": []
          }
        },
        {
          "output_type": "stream",
          "text": [
            "Saving Lab11.csv to Lab11 (2).csv\n",
            "User uploaded file Lab11.csv with size 113 bytes\n"
          ],
          "name": "stdout"
        }
      ]
    },
    {
      "cell_type": "markdown",
      "metadata": {
        "id": "O3dO3vg4aluf"
      },
      "source": [
        "##Printing .csv file"
      ]
    },
    {
      "cell_type": "code",
      "metadata": {
        "id": "48VmHQgjaqci",
        "outputId": "8fd57368-34a9-4856-a700-6f85f5ceb4db",
        "colab": {
          "base_uri": "https://localhost:8080/",
          "height": 235
        }
      },
      "source": [
        "df=pd.read_csv('Lab11.csv')\n",
        "df"
      ],
      "execution_count": null,
      "outputs": [
        {
          "output_type": "execute_result",
          "data": {
            "text/html": [
              "<div>\n",
              "<style scoped>\n",
              "    .dataframe tbody tr th:only-of-type {\n",
              "        vertical-align: middle;\n",
              "    }\n",
              "\n",
              "    .dataframe tbody tr th {\n",
              "        vertical-align: top;\n",
              "    }\n",
              "\n",
              "    .dataframe thead th {\n",
              "        text-align: right;\n",
              "    }\n",
              "</style>\n",
              "<table border=\"1\" class=\"dataframe\">\n",
              "  <thead>\n",
              "    <tr style=\"text-align: right;\">\n",
              "      <th></th>\n",
              "      <th>1</th>\n",
              "      <th>2</th>\n",
              "      <th>3</th>\n",
              "      <th>4</th>\n",
              "      <th>5</th>\n",
              "      <th>6</th>\n",
              "    </tr>\n",
              "  </thead>\n",
              "  <tbody>\n",
              "    <tr>\n",
              "      <th>0</th>\n",
              "      <td>0</td>\n",
              "      <td>10</td>\n",
              "      <td>100</td>\n",
              "      <td>50</td>\n",
              "      <td>33</td>\n",
              "      <td>66</td>\n",
              "    </tr>\n",
              "    <tr>\n",
              "      <th>1</th>\n",
              "      <td>10</td>\n",
              "      <td>0</td>\n",
              "      <td>22</td>\n",
              "      <td>86</td>\n",
              "      <td>952</td>\n",
              "      <td>3</td>\n",
              "    </tr>\n",
              "    <tr>\n",
              "      <th>2</th>\n",
              "      <td>100</td>\n",
              "      <td>22</td>\n",
              "      <td>0</td>\n",
              "      <td>6</td>\n",
              "      <td>86</td>\n",
              "      <td>2</td>\n",
              "    </tr>\n",
              "    <tr>\n",
              "      <th>3</th>\n",
              "      <td>50</td>\n",
              "      <td>86</td>\n",
              "      <td>6</td>\n",
              "      <td>0</td>\n",
              "      <td>5</td>\n",
              "      <td>4</td>\n",
              "    </tr>\n",
              "    <tr>\n",
              "      <th>4</th>\n",
              "      <td>33</td>\n",
              "      <td>952</td>\n",
              "      <td>86</td>\n",
              "      <td>5</td>\n",
              "      <td>0</td>\n",
              "      <td>9</td>\n",
              "    </tr>\n",
              "    <tr>\n",
              "      <th>5</th>\n",
              "      <td>66</td>\n",
              "      <td>3</td>\n",
              "      <td>2</td>\n",
              "      <td>4</td>\n",
              "      <td>9</td>\n",
              "      <td>0</td>\n",
              "    </tr>\n",
              "  </tbody>\n",
              "</table>\n",
              "</div>"
            ],
            "text/plain": [
              "     1    2    3   4    5   6\n",
              "0    0   10  100  50   33  66\n",
              "1   10    0   22  86  952   3\n",
              "2  100   22    0   6   86   2\n",
              "3   50   86    6   0    5   4\n",
              "4   33  952   86   5    0   9\n",
              "5   66    3    2   4    9   0"
            ]
          },
          "metadata": {
            "tags": []
          },
          "execution_count": 153
        }
      ]
    },
    {
      "cell_type": "code",
      "metadata": {
        "id": "HHhUHTF4a2fy"
      },
      "source": [
        "nvar=6*6\n",
        "city=['1','2','3','4','5','6']\n",
        "dist=df.iloc[0:6,0:6].to_numpy()\n",
        "cost = dict(((a,b),dist[ord(a)-48-1][ord(b)-48-1]) for a in city for b in city if a!=b )"
      ],
      "execution_count": null,
      "outputs": []
    },
    {
      "cell_type": "markdown",
      "metadata": {
        "id": "jK6oOZQAbuCz"
      },
      "source": [
        "##Define lpp problem"
      ]
    },
    {
      "cell_type": "code",
      "metadata": {
        "id": "nrvNkY-6bwid"
      },
      "source": [
        "model=LpProblem(\"lab11\",LpMinimize)"
      ],
      "execution_count": null,
      "outputs": []
    },
    {
      "cell_type": "markdown",
      "metadata": {
        "id": "wKoJhWIlb7Tp"
      },
      "source": [
        "##Define decision variables"
      ]
    },
    {
      "cell_type": "code",
      "metadata": {
        "id": "DaCkvOy0b-nD"
      },
      "source": [
        "x = LpVariable.dicts('x',cost, 0,1,LpBinary)"
      ],
      "execution_count": null,
      "outputs": []
    },
    {
      "cell_type": "markdown",
      "metadata": {
        "id": "5o678R-Icnni"
      },
      "source": [
        "##Define objective function"
      ]
    },
    {
      "cell_type": "code",
      "metadata": {
        "id": "l9iLASGFheat"
      },
      "source": [
        "model+=lpSum([x[(i,j)]*cost[(i,j)] for (i,j) in cost])\n"
      ],
      "execution_count": null,
      "outputs": []
    },
    {
      "cell_type": "markdown",
      "metadata": {
        "id": "0MwXnqOuhyCy"
      },
      "source": [
        "##Add constraints"
      ]
    },
    {
      "cell_type": "code",
      "metadata": {
        "id": "2Egoc3Pkh143"
      },
      "source": [
        "for k in city:\n",
        "    model+= lpSum([ x[(i,k)] for i in city if (i,k) in x]) ==1 ##i to j\n",
        "    model+=lpSum([ x[(k,i)] for i in city if (k,i) in x]) ==1  ##j to i"
      ],
      "execution_count": null,
      "outputs": []
    },
    {
      "cell_type": "markdown",
      "metadata": {
        "id": "3gdR7ZVdikw_"
      },
      "source": [
        "##Linking Subtours"
      ]
    },
    {
      "cell_type": "code",
      "metadata": {
        "id": "UHNKyd_Ik6YN",
        "outputId": "594935e9-067f-4f7c-e9c2-0c20e9f55afb",
        "colab": {
          "base_uri": "https://localhost:8080/",
          "height": 1000
        }
      },
      "source": [
        "u = LpVariable.dicts('u', city, 0, len(city)-1, LpInteger)\n",
        "for i in city:\n",
        "    for j in city:\n",
        "        if i != j and (i != '1' and j!= '1') and (i,j) in x:\n",
        "            model += u[i] - u[j] <= (6)*(1-x[(i,j)]) - 1\n",
        "model"
      ],
      "execution_count": null,
      "outputs": [
        {
          "output_type": "execute_result",
          "data": {
            "text/plain": [
              "lab11:\n",
              "MINIMIZE\n",
              "10*x_('1',_'2') + 100*x_('1',_'3') + 50*x_('1',_'4') + 33*x_('1',_'5') + 66*x_('1',_'6') + 10*x_('2',_'1') + 22*x_('2',_'3') + 86*x_('2',_'4') + 952*x_('2',_'5') + 3*x_('2',_'6') + 100*x_('3',_'1') + 22*x_('3',_'2') + 6*x_('3',_'4') + 86*x_('3',_'5') + 2*x_('3',_'6') + 50*x_('4',_'1') + 86*x_('4',_'2') + 6*x_('4',_'3') + 5*x_('4',_'5') + 4*x_('4',_'6') + 33*x_('5',_'1') + 952*x_('5',_'2') + 86*x_('5',_'3') + 5*x_('5',_'4') + 9*x_('5',_'6') + 66*x_('6',_'1') + 3*x_('6',_'2') + 2*x_('6',_'3') + 4*x_('6',_'4') + 9*x_('6',_'5') + 0\n",
              "SUBJECT TO\n",
              "_C1: x_('2',_'1') + x_('3',_'1') + x_('4',_'1') + x_('5',_'1') + x_('6',_'1')\n",
              " = 1\n",
              "\n",
              "_C2: x_('1',_'2') + x_('1',_'3') + x_('1',_'4') + x_('1',_'5') + x_('1',_'6')\n",
              " = 1\n",
              "\n",
              "_C3: x_('1',_'2') + x_('3',_'2') + x_('4',_'2') + x_('5',_'2') + x_('6',_'2')\n",
              " = 1\n",
              "\n",
              "_C4: x_('2',_'1') + x_('2',_'3') + x_('2',_'4') + x_('2',_'5') + x_('2',_'6')\n",
              " = 1\n",
              "\n",
              "_C5: x_('1',_'3') + x_('2',_'3') + x_('4',_'3') + x_('5',_'3') + x_('6',_'3')\n",
              " = 1\n",
              "\n",
              "_C6: x_('3',_'1') + x_('3',_'2') + x_('3',_'4') + x_('3',_'5') + x_('3',_'6')\n",
              " = 1\n",
              "\n",
              "_C7: x_('1',_'4') + x_('2',_'4') + x_('3',_'4') + x_('5',_'4') + x_('6',_'4')\n",
              " = 1\n",
              "\n",
              "_C8: x_('4',_'1') + x_('4',_'2') + x_('4',_'3') + x_('4',_'5') + x_('4',_'6')\n",
              " = 1\n",
              "\n",
              "_C9: x_('1',_'5') + x_('2',_'5') + x_('3',_'5') + x_('4',_'5') + x_('6',_'5')\n",
              " = 1\n",
              "\n",
              "_C10: x_('5',_'1') + x_('5',_'2') + x_('5',_'3') + x_('5',_'4') + x_('5',_'6')\n",
              " = 1\n",
              "\n",
              "_C11: x_('1',_'6') + x_('2',_'6') + x_('3',_'6') + x_('4',_'6') + x_('5',_'6')\n",
              " = 1\n",
              "\n",
              "_C12: x_('6',_'1') + x_('6',_'2') + x_('6',_'3') + x_('6',_'4') + x_('6',_'5')\n",
              " = 1\n",
              "\n",
              "_C13: u_2 - u_3 + 6 x_('2',_'3') <= 5\n",
              "\n",
              "_C14: u_2 - u_4 + 6 x_('2',_'4') <= 5\n",
              "\n",
              "_C15: u_2 - u_5 + 6 x_('2',_'5') <= 5\n",
              "\n",
              "_C16: u_2 - u_6 + 6 x_('2',_'6') <= 5\n",
              "\n",
              "_C17: - u_2 + u_3 + 6 x_('3',_'2') <= 5\n",
              "\n",
              "_C18: u_3 - u_4 + 6 x_('3',_'4') <= 5\n",
              "\n",
              "_C19: u_3 - u_5 + 6 x_('3',_'5') <= 5\n",
              "\n",
              "_C20: u_3 - u_6 + 6 x_('3',_'6') <= 5\n",
              "\n",
              "_C21: - u_2 + u_4 + 6 x_('4',_'2') <= 5\n",
              "\n",
              "_C22: - u_3 + u_4 + 6 x_('4',_'3') <= 5\n",
              "\n",
              "_C23: u_4 - u_5 + 6 x_('4',_'5') <= 5\n",
              "\n",
              "_C24: u_4 - u_6 + 6 x_('4',_'6') <= 5\n",
              "\n",
              "_C25: - u_2 + u_5 + 6 x_('5',_'2') <= 5\n",
              "\n",
              "_C26: - u_3 + u_5 + 6 x_('5',_'3') <= 5\n",
              "\n",
              "_C27: - u_4 + u_5 + 6 x_('5',_'4') <= 5\n",
              "\n",
              "_C28: u_5 - u_6 + 6 x_('5',_'6') <= 5\n",
              "\n",
              "_C29: - u_2 + u_6 + 6 x_('6',_'2') <= 5\n",
              "\n",
              "_C30: - u_3 + u_6 + 6 x_('6',_'3') <= 5\n",
              "\n",
              "_C31: - u_4 + u_6 + 6 x_('6',_'4') <= 5\n",
              "\n",
              "_C32: - u_5 + u_6 + 6 x_('6',_'5') <= 5\n",
              "\n",
              "VARIABLES\n",
              "0 <= u_2 <= 5 Integer\n",
              "0 <= u_3 <= 5 Integer\n",
              "0 <= u_4 <= 5 Integer\n",
              "0 <= u_5 <= 5 Integer\n",
              "0 <= u_6 <= 5 Integer\n",
              "0 <= x_('1',_'2') <= 1 Integer\n",
              "0 <= x_('1',_'3') <= 1 Integer\n",
              "0 <= x_('1',_'4') <= 1 Integer\n",
              "0 <= x_('1',_'5') <= 1 Integer\n",
              "0 <= x_('1',_'6') <= 1 Integer\n",
              "0 <= x_('2',_'1') <= 1 Integer\n",
              "0 <= x_('2',_'3') <= 1 Integer\n",
              "0 <= x_('2',_'4') <= 1 Integer\n",
              "0 <= x_('2',_'5') <= 1 Integer\n",
              "0 <= x_('2',_'6') <= 1 Integer\n",
              "0 <= x_('3',_'1') <= 1 Integer\n",
              "0 <= x_('3',_'2') <= 1 Integer\n",
              "0 <= x_('3',_'4') <= 1 Integer\n",
              "0 <= x_('3',_'5') <= 1 Integer\n",
              "0 <= x_('3',_'6') <= 1 Integer\n",
              "0 <= x_('4',_'1') <= 1 Integer\n",
              "0 <= x_('4',_'2') <= 1 Integer\n",
              "0 <= x_('4',_'3') <= 1 Integer\n",
              "0 <= x_('4',_'5') <= 1 Integer\n",
              "0 <= x_('4',_'6') <= 1 Integer\n",
              "0 <= x_('5',_'1') <= 1 Integer\n",
              "0 <= x_('5',_'2') <= 1 Integer\n",
              "0 <= x_('5',_'3') <= 1 Integer\n",
              "0 <= x_('5',_'4') <= 1 Integer\n",
              "0 <= x_('5',_'6') <= 1 Integer\n",
              "0 <= x_('6',_'1') <= 1 Integer\n",
              "0 <= x_('6',_'2') <= 1 Integer\n",
              "0 <= x_('6',_'3') <= 1 Integer\n",
              "0 <= x_('6',_'4') <= 1 Integer\n",
              "0 <= x_('6',_'5') <= 1 Integer"
            ]
          },
          "metadata": {
            "tags": []
          },
          "execution_count": 253
        }
      ]
    },
    {
      "cell_type": "markdown",
      "metadata": {
        "id": "qC-0rHDZ8rSO"
      },
      "source": [
        "##Solve"
      ]
    },
    {
      "cell_type": "code",
      "metadata": {
        "id": "4Ru79Yys8tMX",
        "outputId": "01a5be02-b3ae-4556-f65f-99cbadfce172",
        "colab": {
          "base_uri": "https://localhost:8080/",
          "height": 561
        }
      },
      "source": [
        "status=model.solve()\n",
        "\n",
        "print(f\"status: {model.status},{LpStatus[model.status]}\")\n",
        "print(f\"Objective= {model.objective.value()}\")\n",
        "\n",
        "for var in x.values():\n",
        "  print(\"{}={}\".format(var.name,var.value()))"
      ],
      "execution_count": null,
      "outputs": [
        {
          "output_type": "stream",
          "text": [
            "status: 1,Optimal\n",
            "Objective= 59.0\n",
            "x_('1',_'2')=0.0\n",
            "x_('1',_'3')=0.0\n",
            "x_('1',_'4')=0.0\n",
            "x_('1',_'5')=1.0\n",
            "x_('1',_'6')=0.0\n",
            "x_('2',_'1')=1.0\n",
            "x_('2',_'3')=0.0\n",
            "x_('2',_'4')=0.0\n",
            "x_('2',_'5')=0.0\n",
            "x_('2',_'6')=0.0\n",
            "x_('3',_'1')=0.0\n",
            "x_('3',_'2')=0.0\n",
            "x_('3',_'4')=0.0\n",
            "x_('3',_'5')=0.0\n",
            "x_('3',_'6')=1.0\n",
            "x_('4',_'1')=0.0\n",
            "x_('4',_'2')=0.0\n",
            "x_('4',_'3')=1.0\n",
            "x_('4',_'5')=0.0\n",
            "x_('4',_'6')=0.0\n",
            "x_('5',_'1')=0.0\n",
            "x_('5',_'2')=0.0\n",
            "x_('5',_'3')=0.0\n",
            "x_('5',_'4')=1.0\n",
            "x_('5',_'6')=0.0\n",
            "x_('6',_'1')=0.0\n",
            "x_('6',_'2')=1.0\n",
            "x_('6',_'3')=0.0\n",
            "x_('6',_'4')=0.0\n",
            "x_('6',_'5')=0.0\n"
          ],
          "name": "stdout"
        }
      ]
    },
    {
      "cell_type": "markdown",
      "metadata": {
        "id": "grs4dM64lF55"
      },
      "source": [
        "##Get the results"
      ]
    },
    {
      "cell_type": "code",
      "metadata": {
        "id": "L5VMViHHlK4c",
        "outputId": "01fb0da6-5165-4f81-ed2f-a810aecfe3e7",
        "colab": {
          "base_uri": "https://localhost:8080/",
          "height": 68
        }
      },
      "source": [
        "upd = '1'\n",
        "shortest_route=[]\n",
        "shortest_route.append(city.pop(0))\n",
        "\n",
        "while len(city) > 0:\n",
        "\n",
        "    for k in city:\n",
        "        if x[(upd,k)].varValue ==1:\n",
        "            shortest_route.append( city.pop( city.index(k)))\n",
        "            upd=k\n",
        "            break\n",
        "\n",
        "shortest_route.append('1')\n",
        "\n",
        "shortest_route_length = [cost[(shortest_route[i-1], shortest_route[i])] for i in range(1,len(shortest_route))]\n",
        "\n",
        "print('Shortest Path is:')\n",
        "print(' -> '.join(shortest_route))\n",
        "print(f\"Minimum cost of the tour is :{sum(shortest_route_length)}\")"
      ],
      "execution_count": null,
      "outputs": [
        {
          "output_type": "stream",
          "text": [
            "Shortest Path is:\n",
            "1 -> 5 -> 4 -> 3 -> 6 -> 2 -> 1\n",
            "Minimum cost of the tour is :59\n"
          ],
          "name": "stdout"
        }
      ]
    }
  ]
}
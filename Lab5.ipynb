{
  "nbformat": 4,
  "nbformat_minor": 0,
  "metadata": {
    "colab": {
      "name": "Devansh_Messon_037_Lab5 (1).ipynb",
      "provenance": [],
      "include_colab_link": true
    },
    "kernelspec": {
      "name": "python3",
      "display_name": "Python 3"
    }
  },
  "cells": [
    {
      "cell_type": "markdown",
      "metadata": {
        "id": "view-in-github",
        "colab_type": "text"
      },
      "source": [
        "<a href=\"https://colab.research.google.com/github/zeph0yr/Operation-Research-Optimization/blob/master/Lab5.ipynb\" target=\"_parent\"><img src=\"https://colab.research.google.com/assets/colab-badge.svg\" alt=\"Open In Colab\"/></a>"
      ]
    },
    {
      "cell_type": "code",
      "metadata": {
        "id": "k7K1OSkS1aNG",
        "colab_type": "code",
        "colab": {
          "base_uri": "https://localhost:8080/",
          "height": 306
        },
        "outputId": "1b405404-a724-4704-83e1-ed3f4734e72e"
      },
      "source": [
        "!pip install pulp"
      ],
      "execution_count": null,
      "outputs": [
        {
          "output_type": "stream",
          "text": [
            "Collecting pulp\n",
            "\u001b[?25l  Downloading https://files.pythonhosted.org/packages/c3/22/5743d7b5d69f84fb63a0b4925862522dbf80e82defcd0c447afb694f3fd0/PuLP-2.3-py3-none-any.whl (40.6MB)\n",
            "\u001b[K     |████████████████████████████████| 40.6MB 93kB/s \n",
            "\u001b[?25hCollecting amply>=0.1.2\n",
            "  Downloading https://files.pythonhosted.org/packages/7f/11/33cb09557ac838d9488779b79e05a2a3c1f3ce9747cd242ba68332736778/amply-0.1.2.tar.gz\n",
            "  Installing build dependencies ... \u001b[?25l\u001b[?25hdone\n",
            "  Getting requirements to build wheel ... \u001b[?25l\u001b[?25hdone\n",
            "    Preparing wheel metadata ... \u001b[?25l\u001b[?25hdone\n",
            "Requirement already satisfied: pyparsing in /usr/local/lib/python3.6/dist-packages (from amply>=0.1.2->pulp) (2.4.7)\n",
            "Requirement already satisfied: docutils>=0.3 in /usr/local/lib/python3.6/dist-packages (from amply>=0.1.2->pulp) (0.15.2)\n",
            "Building wheels for collected packages: amply\n",
            "  Building wheel for amply (PEP 517) ... \u001b[?25l\u001b[?25hdone\n",
            "  Created wheel for amply: filename=amply-0.1.2-cp36-none-any.whl size=16573 sha256=0968865b245e2130b29c731fa30de9f8ef07aad7b489a1762bc2de20d614f5b8\n",
            "  Stored in directory: /root/.cache/pip/wheels/84/18/f7/e5c3ed13ed5bb721763f77d4a924331d59ef115ce61c9d26eb\n",
            "Successfully built amply\n",
            "Installing collected packages: amply, pulp\n",
            "Successfully installed amply-0.1.2 pulp-2.3\n"
          ],
          "name": "stdout"
        }
      ]
    },
    {
      "cell_type": "code",
      "metadata": {
        "id": "MiY0g5yb2Q0n",
        "colab_type": "code",
        "colab": {}
      },
      "source": [
        "from pulp import *"
      ],
      "execution_count": null,
      "outputs": []
    },
    {
      "cell_type": "markdown",
      "metadata": {
        "id": "Bklp57ts2VmV",
        "colab_type": "text"
      },
      "source": [
        "#Question 1\n",
        "##Model\n",
        "\n",
        "Maximize Z = $3X­_{1} + 2X_{2} + 3X_{3}$\n",
        "\n",
        "####Subject to:\n",
        "\n",
        " $2X­_{1} + X_{2} + X_{3} = 2$\n",
        "\n",
        "$X­_{1} + 3X_{2} + X_{3}=6$\n",
        "\n",
        "$3X­_{1} + 4X_{2} + 2X_{3} =8$\n",
        "\n",
        "$X_{1} ,X_{2} , X_{3} ≥0$"
      ]
    },
    {
      "cell_type": "markdown",
      "metadata": {
        "id": "hYOlScDV3mar",
        "colab_type": "text"
      },
      "source": [
        "##Defining Linear Programming"
      ]
    },
    {
      "cell_type": "code",
      "metadata": {
        "id": "5Noq2Kt63rYC",
        "colab_type": "code",
        "colab": {}
      },
      "source": [
        "lpp=LpProblem(\"Lab5_Question_1\",LpMaximize)\n"
      ],
      "execution_count": null,
      "outputs": []
    },
    {
      "cell_type": "markdown",
      "metadata": {
        "id": "tBaeyo7g36Qv",
        "colab_type": "text"
      },
      "source": [
        "##Defining Decision Variables"
      ]
    },
    {
      "cell_type": "code",
      "metadata": {
        "id": "Y2O2gQyD3_Mb",
        "colab_type": "code",
        "colab": {}
      },
      "source": [
        "x={i:LpVariable(name=f\"x{i}\",lowBound=0)for i in range(1,4)}\n"
      ],
      "execution_count": null,
      "outputs": []
    },
    {
      "cell_type": "markdown",
      "metadata": {
        "id": "AsNdgw_g57Mj",
        "colab_type": "text"
      },
      "source": [
        "##Set The Objective Function"
      ]
    },
    {
      "cell_type": "code",
      "metadata": {
        "id": "b4UhH6AM5-Yk",
        "colab_type": "code",
        "colab": {}
      },
      "source": [
        "lpp+=3*x[1] +2*x[2] +3*x[3]"
      ],
      "execution_count": null,
      "outputs": []
    },
    {
      "cell_type": "markdown",
      "metadata": {
        "id": "BfroWL9C6S6z",
        "colab_type": "text"
      },
      "source": [
        "##Adding the constraints to *lpp*"
      ]
    },
    {
      "cell_type": "code",
      "metadata": {
        "id": "Kv8Z9JVI6bEB",
        "colab_type": "code",
        "colab": {}
      },
      "source": [
        "lpp+=(2*x[1]+x[2]+x[3]==2)\n",
        "lpp+=(x[1]+3*x[2]+x[3]==6)\n",
        "lpp+=(3*x[1]+4*x[2]+2*x[3]==8)"
      ],
      "execution_count": null,
      "outputs": []
    },
    {
      "cell_type": "markdown",
      "metadata": {
        "id": "PunjgXJ17NrY",
        "colab_type": "text"
      },
      "source": [
        "##Solving the Optimization *Problem*"
      ]
    },
    {
      "cell_type": "code",
      "metadata": {
        "id": "p1apbu-07PdA",
        "colab_type": "code",
        "colab": {}
      },
      "source": [
        "status=lpp.solve()"
      ],
      "execution_count": null,
      "outputs": []
    },
    {
      "cell_type": "markdown",
      "metadata": {
        "id": "l8IADwS77aEi",
        "colab_type": "text"
      },
      "source": [
        "##Get the Results"
      ]
    },
    {
      "cell_type": "code",
      "metadata": {
        "id": "TQulcQLz7UzZ",
        "colab_type": "code",
        "colab": {
          "base_uri": "https://localhost:8080/",
          "height": 51
        },
        "outputId": "0a41d671-53a8-404e-ce43-88cf3e4abc72"
      },
      "source": [
        "print(f\"status:{lpp.status},{LpStatus[lpp.status]}\")\n",
        "print(f\"Objective:{'%.2f'%lpp.objective.value()}\")"
      ],
      "execution_count": null,
      "outputs": [
        {
          "output_type": "stream",
          "text": [
            "status:1,Optimal\n",
            "Objective:4.00\n"
          ],
          "name": "stdout"
        }
      ]
    },
    {
      "cell_type": "markdown",
      "metadata": {
        "id": "njEIquxd8NhX",
        "colab_type": "text"
      },
      "source": [
        "##Printing the Values of Decision Variables"
      ]
    },
    {
      "cell_type": "markdown",
      "metadata": {
        "id": "eQNwnd9cD1Q4",
        "colab_type": "text"
      },
      "source": [
        ""
      ]
    },
    {
      "cell_type": "code",
      "metadata": {
        "id": "LKcvj8m28RRp",
        "colab_type": "code",
        "colab": {
          "base_uri": "https://localhost:8080/",
          "height": 68
        },
        "outputId": "7b344d83-4cec-40d0-ac1d-26d5daeb2c90"
      },
      "source": [
        "for variable in x.values():\n",
        "  print(f\"{variable.name}:{'%.2f'%variable.value()}\")"
      ],
      "execution_count": null,
      "outputs": [
        {
          "output_type": "stream",
          "text": [
            "x1:-0.00\n",
            "x2:2.00\n",
            "x3:0.00\n"
          ],
          "name": "stdout"
        }
      ]
    },
    {
      "cell_type": "markdown",
      "metadata": {
        "id": "GG2b5V7D9_lo",
        "colab_type": "text"
      },
      "source": [
        "##Question 2 \n",
        "##Model\n",
        "\n",
        "$Minimize  Z = 3X_­{1} - 4X_{2} + 3X_{3}$\n",
        "\n",
        "Subject to,\n",
        "\n",
        "$ 5X­_{1} + 6X_{2} + 2X_{3} ≤ 5$\n",
        "\n",
        "$-X­_{1} + 3X_{2} +5 X_{3} ≥ 8$\n",
        "\n",
        "$2X­_{1} + 5X_{2} - 4X_{3} ≤4$\n",
        "\n",
        "$X_{1} ,X_{2} , X_{3} ≥0$"
      ]
    },
    {
      "cell_type": "markdown",
      "metadata": {
        "id": "Jmy3Z8og-en8",
        "colab_type": "text"
      },
      "source": [
        "##Defining Linear Programming Problem"
      ]
    },
    {
      "cell_type": "code",
      "metadata": {
        "id": "LXwEbRCZ-rVs",
        "colab_type": "code",
        "colab": {
          "base_uri": "https://localhost:8080/",
          "height": 51
        },
        "outputId": "1ce0566c-abda-497f-a797-5a0fc8562ad0"
      },
      "source": [
        "lpp1=LpProblem(\"Question 2\",LpMinimize)"
      ],
      "execution_count": null,
      "outputs": [
        {
          "output_type": "stream",
          "text": [
            "/usr/local/lib/python3.6/dist-packages/pulp/pulp.py:1195: UserWarning: Spaces are not permitted in the name. Converted to '_'\n",
            "  warnings.warn(\"Spaces are not permitted in the name. Converted to '_'\")\n"
          ],
          "name": "stderr"
        }
      ]
    },
    {
      "cell_type": "markdown",
      "metadata": {
        "id": "r8O9gnXw-vuG",
        "colab_type": "text"
      },
      "source": [
        "##Defining Decision Variables"
      ]
    },
    {
      "cell_type": "code",
      "metadata": {
        "id": "33B2BU_h-z97",
        "colab_type": "code",
        "colab": {}
      },
      "source": [
        "y={i:LpVariable(name=f\"y{i}\",lowBound=0)for i in range(1,4)}"
      ],
      "execution_count": null,
      "outputs": []
    },
    {
      "cell_type": "markdown",
      "metadata": {
        "id": "XtrWhEOX_LtG",
        "colab_type": "text"
      },
      "source": [
        "##Set the Objective Function"
      ]
    },
    {
      "cell_type": "code",
      "metadata": {
        "id": "06cKILiF_Tm0",
        "colab_type": "code",
        "colab": {}
      },
      "source": [
        "lpp1+=3*y[1]-4*y[2]+3*y[3]"
      ],
      "execution_count": null,
      "outputs": []
    },
    {
      "cell_type": "markdown",
      "metadata": {
        "id": "OgLc6d0QAqjc",
        "colab_type": "text"
      },
      "source": [
        "##Adding Constraints To Lpp1"
      ]
    },
    {
      "cell_type": "code",
      "metadata": {
        "id": "JZxCBeIOAr23",
        "colab_type": "code",
        "colab": {}
      },
      "source": [
        "lpp1+=(5*y[1]+6*y[2]+2*x[3]<=5)\n",
        "lpp1+=(-y[1]+3*y[2]+5*y[3]>=8)\n",
        "lpp1+=(2*y[1]+5*y[2]-4*y[3]<=4)\n",
        "\n"
      ],
      "execution_count": null,
      "outputs": []
    },
    {
      "cell_type": "markdown",
      "metadata": {
        "id": "00B5-CQVBQRT",
        "colab_type": "text"
      },
      "source": [
        "##Solving the Optimization Problem"
      ]
    },
    {
      "cell_type": "code",
      "metadata": {
        "id": "AfYw-SpsBRz7",
        "colab_type": "code",
        "colab": {}
      },
      "source": [
        "solveopt=lpp1.solve()"
      ],
      "execution_count": null,
      "outputs": []
    },
    {
      "cell_type": "markdown",
      "metadata": {
        "id": "FOktqweoBas0",
        "colab_type": "text"
      },
      "source": [
        "##Get The Results"
      ]
    },
    {
      "cell_type": "code",
      "metadata": {
        "id": "nl-TiXFnBfxY",
        "colab_type": "code",
        "colab": {
          "base_uri": "https://localhost:8080/",
          "height": 51
        },
        "outputId": "bc5c08a3-5aa1-45b0-ca7d-b9e92c4dfdc9"
      },
      "source": [
        "print(f\"status:{lpp1.status},{LpStatus[lpp1.status]}\")\n",
        "print(f\"objective:{'%.2f'% lpp1.objective.value()}\")\n"
      ],
      "execution_count": null,
      "outputs": [
        {
          "output_type": "stream",
          "text": [
            "status:1,Optimal\n",
            "objective:-0.03\n"
          ],
          "name": "stdout"
        }
      ]
    },
    {
      "cell_type": "markdown",
      "metadata": {
        "id": "vxSzwsLUFFnO",
        "colab_type": "text"
      },
      "source": [
        ""
      ]
    },
    {
      "cell_type": "markdown",
      "metadata": {
        "id": "VWQ9C8qkD2u6",
        "colab_type": "text"
      },
      "source": [
        "##Printing the Values of Decision Variables"
      ]
    },
    {
      "cell_type": "code",
      "metadata": {
        "id": "dyZpPwwmD3lg",
        "colab_type": "code",
        "colab": {
          "base_uri": "https://localhost:8080/",
          "height": 68
        },
        "outputId": "bfedae49-184a-40d0-f364-ad22e0e85bdd"
      },
      "source": [
        "for variable in y.values():\n",
        "  print(f\"{variable.name}:{'%.2f'%variable.value()}\")"
      ],
      "execution_count": null,
      "outputs": [
        {
          "output_type": "stream",
          "text": [
            "y1:0.00\n",
            "y2:0.83\n",
            "y3:1.10\n"
          ],
          "name": "stdout"
        }
      ]
    },
    {
      "cell_type": "markdown",
      "metadata": {
        "id": "B07mee2QBMkC",
        "colab_type": "text"
      },
      "source": [
        "##Question 3\n",
        "##Model\n",
        "\n",
        "Maximize  Z = $2X_{­1} + 4X_{2} + 4X_{3}  -3X_{4}$\n",
        "\n",
        "Subject to\n",
        "\n",
        "$X_{­1} + X_{2} + X_{3} = 4$\n",
        "\n",
        "$X_{­1} + 4X_{2} + X_{4} =8$\n",
        "\n",
        "$3X­_{1} + 4X_{2} + 2X_{3} =8$\n",
        "\n",
        "$X_{1} ,X_{2} , X_{3} , X_{4} ≥0$"
      ]
    },
    {
      "cell_type": "markdown",
      "metadata": {
        "id": "nfKq0EQwGJdq",
        "colab_type": "text"
      },
      "source": [
        "##Defining Linear Programming Problem"
      ]
    },
    {
      "cell_type": "code",
      "metadata": {
        "id": "Ig98UWWYGKbo",
        "colab_type": "code",
        "colab": {
          "base_uri": "https://localhost:8080/",
          "height": 51
        },
        "outputId": "4bff6ccc-e622-4e6c-d996-024f8287b51d"
      },
      "source": [
        "lpp2=LpProblem(\"Question 3\",LpMaximize)"
      ],
      "execution_count": null,
      "outputs": [
        {
          "output_type": "stream",
          "text": [
            "/usr/local/lib/python3.6/dist-packages/pulp/pulp.py:1195: UserWarning: Spaces are not permitted in the name. Converted to '_'\n",
            "  warnings.warn(\"Spaces are not permitted in the name. Converted to '_'\")\n"
          ],
          "name": "stderr"
        }
      ]
    },
    {
      "cell_type": "markdown",
      "metadata": {
        "id": "dYUv7TUcGwE0",
        "colab_type": "text"
      },
      "source": [
        "##Defining Decision Variables"
      ]
    },
    {
      "cell_type": "code",
      "metadata": {
        "id": "eLBycVA_Gw6s",
        "colab_type": "code",
        "colab": {}
      },
      "source": [
        "z={i:LpVariable(name=f\"z{i}\",lowBound=0) for i in range(1,5)}"
      ],
      "execution_count": null,
      "outputs": []
    },
    {
      "cell_type": "markdown",
      "metadata": {
        "id": "mPUQM82pHG0L",
        "colab_type": "text"
      },
      "source": [
        "##Setting The Objective Function"
      ]
    },
    {
      "cell_type": "code",
      "metadata": {
        "id": "uDb7Sps4HKb2",
        "colab_type": "code",
        "colab": {}
      },
      "source": [
        "lpp2+=(2*z[1]+4*z[2]+4*z[3]-3*z[4])"
      ],
      "execution_count": null,
      "outputs": []
    },
    {
      "cell_type": "markdown",
      "metadata": {
        "id": "IveWUjL_HcJy",
        "colab_type": "text"
      },
      "source": [
        "##Adding Constraints to lpp2"
      ]
    },
    {
      "cell_type": "code",
      "metadata": {
        "id": "IAH2qpMPHs6_",
        "colab_type": "code",
        "colab": {}
      },
      "source": [
        "lpp2+=(z[1]+z[2]+z[3]==4)\n",
        "lpp2+=(z[1]+4*z[2]+z[4]==8)\n",
        "lpp2+=(3*z[1]+4*z[2]+2*z[3]==8)"
      ],
      "execution_count": null,
      "outputs": []
    },
    {
      "cell_type": "markdown",
      "metadata": {
        "id": "FF541IaGKYt5",
        "colab_type": "text"
      },
      "source": [
        ""
      ]
    },
    {
      "cell_type": "markdown",
      "metadata": {
        "id": "CP6QbEMCKd55",
        "colab_type": "text"
      },
      "source": [
        "##Solving the Optimization Problem"
      ]
    },
    {
      "cell_type": "code",
      "metadata": {
        "id": "YQ_Vk7xtKkuF",
        "colab_type": "code",
        "colab": {}
      },
      "source": [
        "sol=lpp2.solve()"
      ],
      "execution_count": null,
      "outputs": []
    },
    {
      "cell_type": "markdown",
      "metadata": {
        "id": "hvPHbcxQLz8X",
        "colab_type": "text"
      },
      "source": [
        "##Get The Results"
      ]
    },
    {
      "cell_type": "code",
      "metadata": {
        "id": "8u3LZu_oL47N",
        "colab_type": "code",
        "colab": {
          "base_uri": "https://localhost:8080/",
          "height": 51
        },
        "outputId": "83a6be39-4826-43c1-95e6-2b8d47c55d29"
      },
      "source": [
        "print(f\"status:{lpp2.status},{LpStatus[lpp2.status]}\")\n",
        "print(f\"objective:{'%.2f'% lpp2.objective.value()}\")\n"
      ],
      "execution_count": null,
      "outputs": [
        {
          "output_type": "stream",
          "text": [
            "status:1,Optimal\n",
            "objective:-8.00\n"
          ],
          "name": "stdout"
        }
      ]
    },
    {
      "cell_type": "markdown",
      "metadata": {
        "id": "xVl51xQjMYvt",
        "colab_type": "text"
      },
      "source": [
        "##Printing the Values of Decision Variables"
      ]
    },
    {
      "cell_type": "code",
      "metadata": {
        "id": "2HPxoKPcMced",
        "colab_type": "code",
        "colab": {
          "base_uri": "https://localhost:8080/",
          "height": 85
        },
        "outputId": "58ea98cd-d6e4-4de4-b2ab-e9aba3ebce3e"
      },
      "source": [
        "for variable in z.values():\n",
        "  print(f\"{variable.name}:{'%.2f'%variable.value()}\")"
      ],
      "execution_count": null,
      "outputs": [
        {
          "output_type": "stream",
          "text": [
            "z1:0.00\n",
            "z2:0.00\n",
            "z3:4.00\n",
            "z4:8.00\n"
          ],
          "name": "stdout"
        }
      ]
    }
  ]
}
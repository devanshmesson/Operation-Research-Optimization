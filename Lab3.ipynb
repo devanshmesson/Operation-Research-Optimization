{
  "nbformat": 4,
  "nbformat_minor": 0,
  "metadata": {
    "colab": {
      "name": "DevanshMesson_037_Lab3.ipynb",
      "provenance": [],
      "include_colab_link": true
    },
    "kernelspec": {
      "name": "python3",
      "display_name": "Python 3"
    }
  },
  "cells": [
    {
      "cell_type": "markdown",
      "metadata": {
        "id": "view-in-github",
        "colab_type": "text"
      },
      "source": [
        "<a href=\"https://colab.research.google.com/github/zeph0yr/Operation-Research-Optimization/blob/master/Lab3.ipynb\" target=\"_parent\"><img src=\"https://colab.research.google.com/assets/colab-badge.svg\" alt=\"Open In Colab\"/></a>"
      ]
    },
    {
      "cell_type": "code",
      "metadata": {
        "id": "6iiUo6-guHcF",
        "colab_type": "code",
        "colab": {
          "base_uri": "https://localhost:8080/",
          "height": 306
        },
        "outputId": "1d188342-d07d-4945-fe1c-810d35734071"
      },
      "source": [
        "!pip install pulp"
      ],
      "execution_count": null,
      "outputs": [
        {
          "output_type": "stream",
          "text": [
            "Collecting pulp\n",
            "\u001b[?25l  Downloading https://files.pythonhosted.org/packages/c3/22/5743d7b5d69f84fb63a0b4925862522dbf80e82defcd0c447afb694f3fd0/PuLP-2.3-py3-none-any.whl (40.6MB)\n",
            "\u001b[K     |████████████████████████████████| 40.6MB 105kB/s \n",
            "\u001b[?25hCollecting amply>=0.1.2\n",
            "  Downloading https://files.pythonhosted.org/packages/7f/11/33cb09557ac838d9488779b79e05a2a3c1f3ce9747cd242ba68332736778/amply-0.1.2.tar.gz\n",
            "  Installing build dependencies ... \u001b[?25l\u001b[?25hdone\n",
            "  Getting requirements to build wheel ... \u001b[?25l\u001b[?25hdone\n",
            "    Preparing wheel metadata ... \u001b[?25l\u001b[?25hdone\n",
            "Requirement already satisfied: docutils>=0.3 in /usr/local/lib/python3.6/dist-packages (from amply>=0.1.2->pulp) (0.15.2)\n",
            "Requirement already satisfied: pyparsing in /usr/local/lib/python3.6/dist-packages (from amply>=0.1.2->pulp) (2.4.7)\n",
            "Building wheels for collected packages: amply\n",
            "  Building wheel for amply (PEP 517) ... \u001b[?25l\u001b[?25hdone\n",
            "  Created wheel for amply: filename=amply-0.1.2-cp36-none-any.whl size=16573 sha256=0b345e314d1c54469a2707a905d5ef22c219704ced4f967bff6ac817ba2f81cf\n",
            "  Stored in directory: /root/.cache/pip/wheels/84/18/f7/e5c3ed13ed5bb721763f77d4a924331d59ef115ce61c9d26eb\n",
            "Successfully built amply\n",
            "Installing collected packages: amply, pulp\n",
            "Successfully installed amply-0.1.2 pulp-2.3\n"
          ],
          "name": "stdout"
        }
      ]
    },
    {
      "cell_type": "markdown",
      "metadata": {
        "id": "JcQl3r1LzeD6",
        "colab_type": "text"
      },
      "source": [
        "#Question 1\n",
        "##Statement\n",
        "\n",
        "An electric appliance company produces two products: refrigerators and ranges. Production takes place in two separate departments I and II. Refrigerators are produced in department I and ranges in department II. The company's two products are sold on a weekly basis. the weekly production cannot exceed 25 refrigerators and 35 ranges. the company regularly employs a total of 60 workers in the two departments. A refrigerator requires 2 man-weeks labour while a range requires 1 man-week labour. A refrigerator contributes a profit of Rs. 60 and range contributes a profit of Rs. 40. how many units of refrigerators and ranges should the company produce to realize the maximum profit?\n"
      ]
    },
    {
      "cell_type": "code",
      "metadata": {
        "id": "zfm3rzzev3XO",
        "colab_type": "code",
        "colab": {}
      },
      "source": [
        "from pulp import *"
      ],
      "execution_count": null,
      "outputs": []
    },
    {
      "cell_type": "markdown",
      "metadata": {
        "id": "BnG84ZQsz8Gu",
        "colab_type": "text"
      },
      "source": [
        "###Model"
      ]
    },
    {
      "cell_type": "code",
      "metadata": {
        "id": "66AV1xqdwFRV",
        "colab_type": "code",
        "colab": {
          "base_uri": "https://localhost:8080/",
          "height": 51
        },
        "outputId": "7f0e9d39-3d2d-42fc-c60f-5ebf282e96a5"
      },
      "source": [
        "#Defining Linear Programming Problem\n",
        "lpp=LpProblem(\"Refrigerators and Ranges\",LpMaximize)\n",
        "\n",
        "#Defining Two Decision Variables\n",
        "Refri=LpVariable(\"Refri\",lowBound=0,cat='Continuous')\n",
        "Range=LpVariable(\"Range\",lowBound=0,cat='Continuous')\n",
        "\n",
        "#Objective Function (Maximize the profit)\n",
        "lpp+=60*Refri + 40*Range,\"Z\"\n",
        "\n",
        "#Subject To Constraints\n",
        "lpp+=Refri<=25\n",
        "lpp+=Range<=35\n",
        "lpp+=2*Refri + Range<=60\n"
      ],
      "execution_count": null,
      "outputs": [
        {
          "output_type": "stream",
          "text": [
            "/usr/local/lib/python3.6/dist-packages/pulp/pulp.py:1195: UserWarning: Spaces are not permitted in the name. Converted to '_'\n",
            "  warnings.warn(\"Spaces are not permitted in the name. Converted to '_'\")\n"
          ],
          "name": "stderr"
        }
      ]
    },
    {
      "cell_type": "markdown",
      "metadata": {
        "id": "S3vrK0DJ0CPW",
        "colab_type": "text"
      },
      "source": [
        ""
      ]
    },
    {
      "cell_type": "code",
      "metadata": {
        "id": "x5nmbIpVxzVx",
        "colab_type": "code",
        "colab": {
          "base_uri": "https://localhost:8080/",
          "height": 238
        },
        "outputId": "958a5067-134e-439f-b71b-ed4e4f01fd19"
      },
      "source": [
        "#Linear Progarmming Problem\n",
        "lpp"
      ],
      "execution_count": null,
      "outputs": [
        {
          "output_type": "execute_result",
          "data": {
            "text/plain": [
              "Refrigerators_and_Ranges:\n",
              "MAXIMIZE\n",
              "40*Range + 60*Refri + 0\n",
              "SUBJECT TO\n",
              "_C1: Refri <= 25\n",
              "\n",
              "_C2: Range <= 35\n",
              "\n",
              "_C3: Range + 2 Refri <= 60\n",
              "\n",
              "VARIABLES\n",
              "Range Continuous\n",
              "Refri Continuous"
            ]
          },
          "metadata": {
            "tags": []
          },
          "execution_count": 6
        }
      ]
    },
    {
      "cell_type": "code",
      "metadata": {
        "id": "RcABZEdmx_tA",
        "colab_type": "code",
        "colab": {
          "base_uri": "https://localhost:8080/",
          "height": 34
        },
        "outputId": "5c9dd150-266d-4c81-f146-19cd5c9ca2f5"
      },
      "source": [
        "#Solving Linear Programming Problem\n",
        "lpp.solve()"
      ],
      "execution_count": null,
      "outputs": [
        {
          "output_type": "execute_result",
          "data": {
            "text/plain": [
              "1"
            ]
          },
          "metadata": {
            "tags": []
          },
          "execution_count": 7
        }
      ]
    },
    {
      "cell_type": "code",
      "metadata": {
        "id": "7l2wwqGryKUI",
        "colab_type": "code",
        "colab": {
          "base_uri": "https://localhost:8080/",
          "height": 35
        },
        "outputId": "7c2bc762-bb5d-4e27-a655-7804fe028066"
      },
      "source": [
        "#Show Lpp Status \n",
        "LpStatus[lpp.status]"
      ],
      "execution_count": null,
      "outputs": [
        {
          "output_type": "execute_result",
          "data": {
            "application/vnd.google.colaboratory.intrinsic+json": {
              "type": "string"
            },
            "text/plain": [
              "'Optimal'"
            ]
          },
          "metadata": {
            "tags": []
          },
          "execution_count": 8
        }
      ]
    },
    {
      "cell_type": "code",
      "metadata": {
        "id": "eQTo04ukyTS8",
        "colab_type": "code",
        "colab": {
          "base_uri": "https://localhost:8080/",
          "height": 51
        },
        "outputId": "fee3fe52-8c13-49ae-966e-c4c8ca3baacf"
      },
      "source": [
        "#Print values of Refrigerator and Range\n",
        "for variable in lpp.variables():\n",
        "  print(\"{} = {}\".format(variable.name,variable.varValue))"
      ],
      "execution_count": null,
      "outputs": [
        {
          "output_type": "stream",
          "text": [
            "Range = 35.0\n",
            "Refri = 12.5\n"
          ],
          "name": "stdout"
        }
      ]
    },
    {
      "cell_type": "code",
      "metadata": {
        "id": "kiTtHXOu_Lch",
        "colab_type": "code",
        "colab": {
          "base_uri": "https://localhost:8080/",
          "height": 34
        },
        "outputId": "716b4724-50ae-4b76-bfce-e5f7cb8b124f"
      },
      "source": [
        "value(lpp.objective)"
      ],
      "execution_count": null,
      "outputs": [
        {
          "output_type": "execute_result",
          "data": {
            "text/plain": [
              "2150.0"
            ]
          },
          "metadata": {
            "tags": []
          },
          "execution_count": 10
        }
      ]
    },
    {
      "cell_type": "markdown",
      "metadata": {
        "id": "AOgdjIC_0DXR",
        "colab_type": "text"
      },
      "source": [
        "#Question 2\n",
        "##Statement\n",
        "\n",
        "Solve the following LPP\n",
        "\n",
        "Minimize Z = $20*X_­{1} + 10*X_{2}$\n",
        "\n",
        "Subject to,\n",
        "\n",
        " $X_{1}$ + $2*X_{2} ≤40$\n",
        "\n",
        "$3X_{1} + 1*X_{2} ≥30$\n",
        "\n",
        "$4*X_{1} + 3*X_{2} ≥60$\n",
        "\n",
        "$X_{1} ,X_{2} ≥0$"
      ]
    },
    {
      "cell_type": "markdown",
      "metadata": {
        "id": "11XjJ6560mtB",
        "colab_type": "text"
      },
      "source": [
        ""
      ]
    },
    {
      "cell_type": "markdown",
      "metadata": {
        "id": "ikaX0KIS0op3",
        "colab_type": "text"
      },
      "source": [
        "##Model"
      ]
    },
    {
      "cell_type": "code",
      "metadata": {
        "id": "-JIQFM-Y0qTw",
        "colab_type": "code",
        "colab": {
          "base_uri": "https://localhost:8080/",
          "height": 51
        },
        "outputId": "3323eea9-45ee-4b6c-cf33-af4ab03f84ed"
      },
      "source": [
        "#Defining linear Programming problem\n",
        "lpp1=LpProblem(\"Lpp Problem(Q2)\",LpMaximize)\n",
        "\n",
        "#Initializing Decision Variables\n",
        "x1=LpVariable('x1',lowBound=0,cat='Continuous')\n",
        "x2=LpVariable('x2',lowBound=0,cat='Continuous')\n",
        "\n",
        "#Objective Function(Maximize)\n",
        "lpp1+=20*x1 + 10*x2\n",
        "\n",
        "#Subject to Constraints\n",
        "lpp1+=x1+2*x2<=40\n",
        "lpp1+=3*x1+x2>=30\n",
        "lpp1+=4*x1+3*x2>=60\n"
      ],
      "execution_count": null,
      "outputs": [
        {
          "output_type": "stream",
          "text": [
            "/usr/local/lib/python3.6/dist-packages/pulp/pulp.py:1195: UserWarning: Spaces are not permitted in the name. Converted to '_'\n",
            "  warnings.warn(\"Spaces are not permitted in the name. Converted to '_'\")\n"
          ],
          "name": "stderr"
        }
      ]
    },
    {
      "cell_type": "code",
      "metadata": {
        "id": "ucVqINQ72hBK",
        "colab_type": "code",
        "colab": {
          "base_uri": "https://localhost:8080/",
          "height": 238
        },
        "outputId": "50ba0ced-aee5-4e2e-dfc7-ec3f072c1c97"
      },
      "source": [
        "#Linear Progarmming Problem\n",
        "lpp1"
      ],
      "execution_count": null,
      "outputs": [
        {
          "output_type": "execute_result",
          "data": {
            "text/plain": [
              "Lpp_Problem(Q2):\n",
              "MAXIMIZE\n",
              "20*x1 + 10*x2 + 0\n",
              "SUBJECT TO\n",
              "_C1: x1 + 2 x2 <= 40\n",
              "\n",
              "_C2: 3 x1 + x2 >= 30\n",
              "\n",
              "_C3: 4 x1 + 3 x2 >= 60\n",
              "\n",
              "VARIABLES\n",
              "x1 Continuous\n",
              "x2 Continuous"
            ]
          },
          "metadata": {
            "tags": []
          },
          "execution_count": 12
        }
      ]
    },
    {
      "cell_type": "code",
      "metadata": {
        "id": "_OqhrkS73OCA",
        "colab_type": "code",
        "colab": {
          "base_uri": "https://localhost:8080/",
          "height": 34
        },
        "outputId": "4aef5294-c7b7-4477-89ba-40dd38c10a07"
      },
      "source": [
        "#Solving Linear Programming Problem\n",
        "lpp1.solve()"
      ],
      "execution_count": null,
      "outputs": [
        {
          "output_type": "execute_result",
          "data": {
            "text/plain": [
              "1"
            ]
          },
          "metadata": {
            "tags": []
          },
          "execution_count": 13
        }
      ]
    },
    {
      "cell_type": "code",
      "metadata": {
        "id": "Kv-XOti-4NL9",
        "colab_type": "code",
        "colab": {
          "base_uri": "https://localhost:8080/",
          "height": 35
        },
        "outputId": "ff80a7ab-1a30-4215-e3da-2f4ff87bb7c3"
      },
      "source": [
        "#Show Lpp1 Status \n",
        "LpStatus[lpp1.status]"
      ],
      "execution_count": null,
      "outputs": [
        {
          "output_type": "execute_result",
          "data": {
            "application/vnd.google.colaboratory.intrinsic+json": {
              "type": "string"
            },
            "text/plain": [
              "'Optimal'"
            ]
          },
          "metadata": {
            "tags": []
          },
          "execution_count": 14
        }
      ]
    },
    {
      "cell_type": "code",
      "metadata": {
        "id": "j9zeng614PCa",
        "colab_type": "code",
        "colab": {
          "base_uri": "https://localhost:8080/",
          "height": 51
        },
        "outputId": "4e5e64fd-3e4c-4186-c128-f586e8e8a44c"
      },
      "source": [
        "#Print X1 and X2\n",
        "for variable in lpp1.variables():\n",
        "  print(\"{} = {}\".format(variable.name,variable.varValue))"
      ],
      "execution_count": null,
      "outputs": [
        {
          "output_type": "stream",
          "text": [
            "x1 = 40.0\n",
            "x2 = 0.0\n"
          ],
          "name": "stdout"
        }
      ]
    },
    {
      "cell_type": "code",
      "metadata": {
        "id": "FtNeGWuN_5c2",
        "colab_type": "code",
        "colab": {
          "base_uri": "https://localhost:8080/",
          "height": 34
        },
        "outputId": "1574c24b-cfae-4749-d611-30f1d99ff4c4"
      },
      "source": [
        "value(lpp1.objective)"
      ],
      "execution_count": null,
      "outputs": [
        {
          "output_type": "execute_result",
          "data": {
            "text/plain": [
              "800.0"
            ]
          },
          "metadata": {
            "tags": []
          },
          "execution_count": 16
        }
      ]
    },
    {
      "cell_type": "markdown",
      "metadata": {
        "id": "rlGZJRSk5L9r",
        "colab_type": "text"
      },
      "source": [
        "#Question 3\n",
        "##Statement\n",
        "\n",
        " Maximize Z = $ X_­{1} +  X_{2} +3*X_{3}$\n",
        "Subject to,\n",
        "\n",
        " $3*X_{1} + 2*X_{2} +X_{3} ≤300$\n",
        "\n",
        "$2*X_{1} + X_{2} +2*X_{3}  ≤200$\n",
        "\n",
        "$X_{1} , X_{2} , X_{3} ≥0$\n",
        "\n"
      ]
    },
    {
      "cell_type": "code",
      "metadata": {
        "id": "YOJzN1Oj5-gw",
        "colab_type": "code",
        "colab": {
          "base_uri": "https://localhost:8080/",
          "height": 51
        },
        "outputId": "fdd4a7ae-ca63-428d-fce2-68d86d23c7e3"
      },
      "source": [
        "#Defining linear Programming problem\n",
        "lpp2=LpProblem(\"Lpp Problem(Q3)\",LpMaximize)\n",
        "\n",
        "#Initializing Decision Variables\n",
        "x1=LpVariable('x1',lowBound=0,cat='Continuous')\n",
        "x2=LpVariable('x2',lowBound=0,cat='Continuous')\n",
        "x3=LpVariable('x3',lowBound=0,cat='Continuous')\n",
        "\n",
        "#Objective Function(Maximize)\n",
        "lpp2+=x1 + x2 + 3*x3\n",
        "\n",
        "#Subject to Constraints\n",
        "lpp2+=3*x1+2*x2+x3<=300\n",
        "lpp2+=2*x1+x2+2*x3<=200\n"
      ],
      "execution_count": null,
      "outputs": [
        {
          "output_type": "stream",
          "text": [
            "/usr/local/lib/python3.6/dist-packages/pulp/pulp.py:1195: UserWarning: Spaces are not permitted in the name. Converted to '_'\n",
            "  warnings.warn(\"Spaces are not permitted in the name. Converted to '_'\")\n"
          ],
          "name": "stderr"
        }
      ]
    },
    {
      "cell_type": "code",
      "metadata": {
        "id": "10_SC6WI7Oos",
        "colab_type": "code",
        "colab": {
          "base_uri": "https://localhost:8080/",
          "height": 221
        },
        "outputId": "63abff55-e982-4074-fa1c-dbda816a3ce8"
      },
      "source": [
        "#Linear Progarmming Problem\n",
        "lpp2"
      ],
      "execution_count": null,
      "outputs": [
        {
          "output_type": "execute_result",
          "data": {
            "text/plain": [
              "Lpp_Problem(Q3):\n",
              "MAXIMIZE\n",
              "1*x1 + 1*x2 + 3*x3 + 0\n",
              "SUBJECT TO\n",
              "_C1: 3 x1 + 2 x2 + x3 <= 300\n",
              "\n",
              "_C2: 2 x1 + x2 + 2 x3 <= 200\n",
              "\n",
              "VARIABLES\n",
              "x1 Continuous\n",
              "x2 Continuous\n",
              "x3 Continuous"
            ]
          },
          "metadata": {
            "tags": []
          },
          "execution_count": 18
        }
      ]
    },
    {
      "cell_type": "code",
      "metadata": {
        "id": "ZQT4hl8M7YpG",
        "colab_type": "code",
        "colab": {
          "base_uri": "https://localhost:8080/",
          "height": 34
        },
        "outputId": "86e1fdac-5287-4b7e-d260-c247cf28c97e"
      },
      "source": [
        "#Solving Linear Programming Problem\n",
        "lpp2.solve()"
      ],
      "execution_count": null,
      "outputs": [
        {
          "output_type": "execute_result",
          "data": {
            "text/plain": [
              "1"
            ]
          },
          "metadata": {
            "tags": []
          },
          "execution_count": 19
        }
      ]
    },
    {
      "cell_type": "code",
      "metadata": {
        "id": "rGyK5tZY7c_X",
        "colab_type": "code",
        "colab": {
          "base_uri": "https://localhost:8080/",
          "height": 35
        },
        "outputId": "74c4f744-6127-41ec-f892-966127d76ee0"
      },
      "source": [
        "#Show Lpp1 Status \n",
        "LpStatus[lpp2.status]"
      ],
      "execution_count": null,
      "outputs": [
        {
          "output_type": "execute_result",
          "data": {
            "application/vnd.google.colaboratory.intrinsic+json": {
              "type": "string"
            },
            "text/plain": [
              "'Optimal'"
            ]
          },
          "metadata": {
            "tags": []
          },
          "execution_count": 20
        }
      ]
    },
    {
      "cell_type": "code",
      "metadata": {
        "id": "Sp7mxFJy7ixO",
        "colab_type": "code",
        "colab": {
          "base_uri": "https://localhost:8080/",
          "height": 68
        },
        "outputId": "6d29f922-41e3-40a4-a4d1-c522a9873daa"
      },
      "source": [
        "#Print X1 and X2\n",
        "for variable in lpp2.variables():\n",
        "  print(\"{} = {}\".format(variable.name,variable.varValue))"
      ],
      "execution_count": null,
      "outputs": [
        {
          "output_type": "stream",
          "text": [
            "x1 = 0.0\n",
            "x2 = 0.0\n",
            "x3 = 100.0\n"
          ],
          "name": "stdout"
        }
      ]
    },
    {
      "cell_type": "code",
      "metadata": {
        "id": "mV7VPkU-ABKS",
        "colab_type": "code",
        "colab": {
          "base_uri": "https://localhost:8080/",
          "height": 34
        },
        "outputId": "3b543c81-595f-4867-d1d6-6da37b73e08d"
      },
      "source": [
        "value(lpp2.objective)"
      ],
      "execution_count": null,
      "outputs": [
        {
          "output_type": "execute_result",
          "data": {
            "text/plain": [
              "300.0"
            ]
          },
          "metadata": {
            "tags": []
          },
          "execution_count": 22
        }
      ]
    }
  ]
}